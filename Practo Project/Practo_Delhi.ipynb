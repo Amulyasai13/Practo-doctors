{
 "cells": [
  {
   "cell_type": "code",
   "execution_count": 1,
   "id": "4f848987",
   "metadata": {
    "ExecuteTime": {
     "end_time": "2022-12-02T11:40:12.898142Z",
     "start_time": "2022-12-02T11:40:11.172612Z"
    }
   },
   "outputs": [],
   "source": [
    "import requests\n",
    "from bs4 import BeautifulSoup\n",
    "import csv\n",
    "import numpy as np\n",
    "import pandas as pd\n",
    "import re"
   ]
  },
  {
   "cell_type": "code",
   "execution_count": 2,
   "id": "0bbab303",
   "metadata": {
    "ExecuteTime": {
     "end_time": "2022-12-02T11:40:14.218910Z",
     "start_time": "2022-12-02T11:40:12.901664Z"
    }
   },
   "outputs": [
    {
     "name": "stdout",
     "output_type": "stream",
     "text": [
      "['Dr. Madhu Ahuja', 'Dr. Keerti Khetan', 'Dr. Neha Khandelwal', 'Dr. Shikha Gurnani', 'Dr. Bandana Sodhi', 'Dr. Sushma Sinha', 'Dr. Harmeet Malhotra', 'Dr. Pratibha Gupta', 'Dr. Sarika Gupta', 'Dr. Sutopa Banerjee']\n",
      "10\n",
      "----------------------------------------------------------------------------------------------------\n",
      "['Delhi', 'Delhi', 'Delhi', 'Delhi', 'Delhi', 'Delhi', 'Delhi', 'Delhi', 'Delhi', 'Delhi']\n",
      "10\n",
      "----------------------------------------------------------------------------------------------------\n",
      "['Patparganj,', 'Pusa Road,', 'Greater Kailash Part 1,', 'Dwarka,', 'Lajpat Nagar,', 'Sarita Vihar,', 'Sarita Vihar,', 'Janakpuri,', 'Sarita Vihar,', 'Vasant Kunj,']\n",
      "10\n",
      "----------------------------------------------------------------------------------------------------\n",
      "['1100', '1500', '1200', '800', '800', '2000', '2000', '600', '1500', '1200']\n",
      "10\n",
      "----------------------------------------------------------------------------------------------------\n",
      "['93% ', '92% ', '99% ', '98% ', '99% ', '100% ', '79% ', '95% ', '100% ', '97% ']\n",
      "10\n",
      "----------------------------------------------------------------------------------------------------\n",
      "['38', '29', '17', '19', '31', '36', '46', '21', '19', '25']\n",
      "10\n",
      "----------------------------------------------------------------------------------------------------\n"
     ]
    }
   ],
   "source": [
    "page = requests.get(\"\")\n",
    "\n",
    "page\n",
    "soup = BeautifulSoup(page.text)\n",
    "Doctor_name=[]\n",
    "for i in soup.find_all(\"h2\",class_=\"doctor-name\"):\n",
    "    Doctor_name.append(i.text)\n",
    "print(Doctor_name)\n",
    "print(len(Doctor_name))\n",
    "print(\"--\"*50)\n",
    "\n",
    "City_name=[]\n",
    "for i in soup.find_all(\"span\",class_=\"u-t-capitalize\"):\n",
    "    City_name.append(i.text)\n",
    "print(City_name)\n",
    "print(len(City_name))\n",
    "print(\"--\"*50)\n",
    "\n",
    "Area=[]\n",
    "for i in soup.find_all(\"span\",attrs={\"data-qa-id\":\"practice_locality\"}):\n",
    "    Area.append(i.text)\n",
    "print(Area)\n",
    "print(len(Area))\n",
    "print(\"--\"*50)\n",
    "\n",
    "q = soup.find_all(\"span\",attrs={\"data-qa-id\":\"consultation_fee\"})\n",
    "q\n",
    "consultation_fee=re.findall(r\"\\d+\\d+\\w+\",str(q))\n",
    "print(consultation_fee)\n",
    "print(len(consultation_fee))\n",
    "print(\"--\"*50)\n",
    "\n",
    "recommendation=[]\n",
    "for i in soup.find_all(\"span\",attrs={\"data-qa-id\":\"doctor_recommendation\"}):\n",
    "        recommendation.append(i.text)\n",
    "#recommendation.insert(2,\"nan\")\n",
    "print(recommendation)\n",
    "print(len(recommendation))\n",
    "print(\"--\"*50)\n",
    "\n",
    "s=soup.find_all('div',{\"data-qa-id\":\"doctor_experience\"})\n",
    "experience = re.findall(r\"(\\d+)<\",str(s))\n",
    "print(experience)\n",
    "print(len(experience))\n",
    "print(\"--\"*50)\n"
   ]
  },
  {
   "cell_type": "code",
   "execution_count": 6,
   "id": "b2f31a8a",
   "metadata": {
    "ExecuteTime": {
     "end_time": "2022-12-02T11:41:22.831468Z",
     "start_time": "2022-12-02T11:41:22.800905Z"
    }
   },
   "outputs": [
    {
     "name": "stdout",
     "output_type": "stream",
     "text": [
      "['Cloudnine Hospitals', '\\xa0+ 1 more', 'BLK-Max Super Speciality Hospital', '\\xa0+ 1 more', 'FeHealth Clinic', '\\xa0+ 4 more', 'Bloom Vision Clinic', \"Women's Clinic\", '\\xa0+ 3 more', 'Indraprastha Apollo Hospitals', '\\xa0+ 1 more', 'Indraprastha Apollo Hospitals', '\\xa0+ 1 more', 'Healing Hands PG Gynaecology & Urology Center', 'Indraprastha Apollo Hospitals', \"Dr. Sutopa Banerjee's Complete Care for Women\"]\n"
     ]
    }
   ],
   "source": [
    "Hospital_name=[]\n",
    "for i in soup.find_all(\"span\",class_=\"u-c-pointer u-t-hover-underline\"):\n",
    "    Hospital_name.append(i.text)\n",
    "print(Hospital_name)"
   ]
  },
  {
   "cell_type": "code",
   "execution_count": 7,
   "id": "fd89b2fd",
   "metadata": {
    "ExecuteTime": {
     "end_time": "2022-12-02T11:41:43.831900Z",
     "start_time": "2022-12-02T11:41:43.796687Z"
    }
   },
   "outputs": [
    {
     "name": "stdout",
     "output_type": "stream",
     "text": [
      "['Cloudnine Hospitals', 'BLK-Max Super Speciality Hospital', 'FeHealth Clinic', 'Bloom Vision Clinic', \"Women's Clinic\", 'Indraprastha Apollo Hospitals', 'Indraprastha Apollo Hospitals', 'Healing Hands PG Gynaecology & Urology Center', 'Indraprastha Apollo Hospitals', \"Dr. Sutopa Banerjee's Complete Care for Women\"]\n"
     ]
    },
    {
     "data": {
      "text/plain": [
       "10"
      ]
     },
     "execution_count": 7,
     "metadata": {},
     "output_type": "execute_result"
    }
   ],
   "source": [
    "Hospital_name.remove('\\xa0+ 1 more')\n",
    "Hospital_name.remove('\\xa0+ 1 more')\n",
    "Hospital_name.remove('\\xa0+ 4 more')\n",
    "Hospital_name.remove('\\xa0+ 3 more')\n",
    "Hospital_name.remove('\\xa0+ 1 more')\n",
    "Hospital_name.remove('\\xa0+ 1 more')\n",
    "#Hospital_name.remove('\\xa0+ 2 more')\n",
    "print(Hospital_name)\n",
    "len(Hospital_name)"
   ]
  },
  {
   "cell_type": "code",
   "execution_count": 8,
   "id": "6abe1dfa",
   "metadata": {
    "ExecuteTime": {
     "end_time": "2022-12-02T11:41:57.181870Z",
     "start_time": "2022-12-02T11:41:57.152508Z"
    },
    "scrolled": true
   },
   "outputs": [
    {
     "data": {
      "text/plain": [
       "[<div class=\"u-grey_3-text u-smallest-font\">Fed up of endless wait?</div>,\n",
       " <div class=\"u-grey_3-text\"><div class=\"u-d-flex\"><span>Gynecologist/Obstetrician</span></div><div class=\"uv2-spacer--xs-top\" data-qa-id=\"doctor_experience\"><div>38<!-- --> <span>years experience overall</span></div></div></div>,\n",
       " <div class=\"u-grey_3-text\"><div class=\"u-d-flex\"><span>Gynecologist/Obstetrician</span></div><div class=\"uv2-spacer--xs-top\" data-qa-id=\"doctor_experience\"><div>29<!-- --> <span>years experience overall</span></div></div></div>,\n",
       " <div class=\"u-grey_3-text\"><div class=\"u-d-flex\"><span>Gynecologist/Obstetrician</span></div><div class=\"uv2-spacer--xs-top\" data-qa-id=\"doctor_experience\"><div>17<!-- --> <span>years experience overall</span></div></div></div>,\n",
       " <div class=\"u-grey_3-text\"><div class=\"u-d-flex\"><span>Gynecologist/Obstetrician</span></div><div class=\"uv2-spacer--xs-top\" data-qa-id=\"doctor_experience\"><div>19<!-- --> <span>years experience overall</span></div></div></div>,\n",
       " <div class=\"u-grey_3-text\"><div class=\"u-d-flex\"><span>Gynecologist/Obstetrician</span></div><div class=\"uv2-spacer--xs-top\" data-qa-id=\"doctor_experience\"><div>31<!-- --> <span>years experience overall</span></div></div></div>,\n",
       " <div class=\"u-grey_3-text\"><div class=\"u-d-flex\"><span>Gynecologist/Obstetrician</span></div><div class=\"uv2-spacer--xs-top\" data-qa-id=\"doctor_experience\"><div>36<!-- --> <span>years experience overall</span></div></div></div>,\n",
       " <div class=\"u-grey_3-text\"><div class=\"u-d-flex\"><span>Gynecologist/Obstetrician</span></div><div class=\"uv2-spacer--xs-top\" data-qa-id=\"doctor_experience\"><div>46<!-- --> <span>years experience overall</span></div></div></div>,\n",
       " <div class=\"u-grey_3-text\"><div class=\"u-d-flex\"><span>Gynecologist/Obstetrician</span></div><div class=\"uv2-spacer--xs-top\" data-qa-id=\"doctor_experience\"><div>21<!-- --> <span>years experience overall</span></div></div></div>,\n",
       " <div class=\"u-grey_3-text\"><div class=\"u-d-flex\"><span>Gynecologist/Obstetrician</span></div><div class=\"uv2-spacer--xs-top\" data-qa-id=\"doctor_experience\"><div>19<!-- --> <span>years experience overall</span></div></div></div>,\n",
       " <div class=\"u-grey_3-text\"><div class=\"u-d-flex\"><span>Gynecologist/Obstetrician</span></div><div class=\"uv2-spacer--xs-top\" data-qa-id=\"doctor_experience\"><div>25<!-- --> <span>years experience overall</span></div></div></div>,\n",
       " <div class=\"u-d-inlineblock u-grey_3-text u-smallest-font\"><span class=\"u-spacer--right-thin u-spacer--left-thin\">•</span><span><span>Average Ratings</span></span><div class=\"u-pos-rel u-d-inlineblock\" data-qa-id=\"star_rating\" title=\"4.8\"><div class=\"\"><span class=\"u-green-text\"><i class=\"icon-ic_star_solid\"></i><i class=\"icon-ic_star_solid\"></i><i class=\"icon-ic_star_solid\"></i><i class=\"icon-ic_star_solid\"></i><i class=\"icon-ic_star_half\"></i></span><span>4.8<!-- --> </span></div></div><span> (<!-- -->2414 <span>Reviews &amp; Ratings</span>)</span></div>,\n",
       " <div class=\"u-grey_3-text\"><div class=\"\" data-qa-id=\"sidebar_undefined_block\"><h2 class=\"u-bold u-smallest-font u-spacer--bottom-less\">Gynecologist/obstetrician in top localities</h2><a class=\"u-grey_3-text u-spacer--bottom-thin u-smallest-font u-bullet-separated\" data-qa-id=\"sidebar_undefined_name\" href=\"/delhi/gynecologist-obstetrician/shahdara\"><h3 class=\"u-d-inline\">Gynecologist/obstetrician in Shahdara</h3></a><a class=\"u-grey_3-text u-spacer--bottom-thin u-smallest-font u-bullet-separated\" data-qa-id=\"sidebar_undefined_name\" href=\"/delhi/gynecologist-obstetrician/subhash-nagar\"><h3 class=\"u-d-inline\">Gynecologist/obstetrician in Subhash Nagar</h3></a><a class=\"u-grey_3-text u-spacer--bottom-thin u-smallest-font u-bullet-separated\" data-qa-id=\"sidebar_undefined_name\" href=\"/delhi/gynecologist-obstetrician/kirti-nagar\"><h3 class=\"u-d-inline\">Gynecologist/obstetrician in Kirti Nagar</h3></a><a class=\"u-grey_3-text u-spacer--bottom-thin u-smallest-font u-bullet-separated\" data-qa-id=\"sidebar_undefined_name\" href=\"/delhi/gynecologist-obstetrician/ram-nagar\"><h3 class=\"u-d-inline\">Gynecologist/obstetrician in Ram Nagar</h3></a><a class=\"u-grey_3-text u-spacer--bottom-thin u-smallest-font u-bullet-separated\" data-qa-id=\"sidebar_undefined_name\" href=\"/delhi/gynecologist-obstetrician/shivalik\"><h3 class=\"u-d-inline\">Gynecologist/obstetrician in Shivalik</h3></a><a class=\"u-grey_3-text u-spacer--bottom-thin u-smallest-font u-bullet-separated\" data-qa-id=\"sidebar_undefined_name\" href=\"/delhi/gynecologist-obstetrician/mahipalpur\"><h3 class=\"u-d-inline\">Gynecologist/obstetrician in Mahipalpur</h3></a><a class=\"u-grey_3-text u-spacer--bottom-thin u-smallest-font u-bullet-separated\" data-qa-id=\"sidebar_undefined_name\" href=\"/delhi/gynecologist-obstetrician/sunder-nagar\"><h3 class=\"u-d-inline\">Gynecologist/obstetrician in Sunder Nagar</h3></a><a class=\"u-grey_3-text u-spacer--bottom-thin u-smallest-font u-bullet-separated\" data-qa-id=\"sidebar_undefined_name\" href=\"/delhi/gynecologist-obstetrician/okhla\"><h3 class=\"u-d-inline\">Gynecologist/obstetrician in Okhla</h3></a><a class=\"u-grey_3-text u-spacer--bottom-thin u-smallest-font u-bullet-separated\" data-qa-id=\"sidebar_undefined_name\" href=\"/delhi/gynecologist-obstetrician/dhaula-kuan\"><h3 class=\"u-d-inline\">Gynecologist/obstetrician in Dhaula Kuan</h3></a><a class=\"u-grey_3-text u-spacer--bottom-thin u-smallest-font u-bullet-separated\" data-qa-id=\"sidebar_undefined_name\" href=\"/delhi/gynecologist-obstetrician/dwarka\"><h3 class=\"u-d-inline\">Gynecologist/obstetrician in Dwarka</h3></a></div><div class=\"u-spacer--medium-top\" data-qa-id=\"sidebar_undefined_block\"><h2 class=\"u-bold u-smallest-font u-spacer--bottom-less\">Related services in Delhi</h2><a class=\"u-grey_3-text u-spacer--bottom-thin u-smallest-font u-bullet-separated\" data-qa-id=\"sidebar_undefined_name\" href=\"/delhi/doctors-for-tiffa-scan\"><h3 class=\"u-d-inline\">Doctors For Tiffa Scan in Delhi</h3></a><a class=\"u-grey_3-text u-spacer--bottom-thin u-smallest-font u-bullet-separated\" data-qa-id=\"sidebar_undefined_name\" href=\"/delhi/doctors-for-dressings\"><h3 class=\"u-d-inline\">Doctors For Dressings in Delhi</h3></a><a class=\"u-grey_3-text u-spacer--bottom-thin u-smallest-font u-bullet-separated\" data-qa-id=\"sidebar_undefined_name\" href=\"/delhi/doctors-for-dengue-fever-treatment\"><h3 class=\"u-d-inline\">Doctors For Dengue Fever Treatment in Delhi</h3></a><a class=\"u-grey_3-text u-spacer--bottom-thin u-smallest-font u-bullet-separated\" data-qa-id=\"sidebar_undefined_name\" href=\"/delhi/doctors-for-chickenpox-treatment\"><h3 class=\"u-d-inline\">Doctors For Chickenpox Treatment in Delhi</h3></a><a class=\"u-grey_3-text u-spacer--bottom-thin u-smallest-font u-bullet-separated\" data-qa-id=\"sidebar_undefined_name\" href=\"/delhi/doctors-for-nt-scan\"><h3 class=\"u-d-inline\">Doctors For Nt Scan in Delhi</h3></a><a class=\"u-grey_3-text u-spacer--bottom-thin u-smallest-font u-bullet-separated\" data-qa-id=\"sidebar_undefined_name\" href=\"/delhi/doctors-for-anomaly-scan\"><h3 class=\"u-d-inline\">Doctors For Anomaly Scan in Delhi</h3></a><a class=\"u-grey_3-text u-spacer--bottom-thin u-smallest-font u-bullet-separated\" data-qa-id=\"sidebar_undefined_name\" href=\"/delhi/doctors-for-pap-smear\"><h3 class=\"u-d-inline\">Doctors For Pap Smear in Delhi</h3></a><a class=\"u-grey_3-text u-spacer--bottom-thin u-smallest-font u-bullet-separated\" data-qa-id=\"sidebar_undefined_name\" href=\"/delhi/doctors-for-giddiness\"><h3 class=\"u-d-inline\">Doctors For Giddiness in Delhi</h3></a><a class=\"u-grey_3-text u-spacer--bottom-thin u-smallest-font u-bullet-separated\" data-qa-id=\"sidebar_undefined_name\" href=\"/delhi/doctors-for-malaria-treatment\"><h3 class=\"u-d-inline\">Doctors For Malaria Treatment in Delhi</h3></a><a class=\"u-grey_3-text u-spacer--bottom-thin u-smallest-font u-bullet-separated\" data-qa-id=\"sidebar_undefined_name\" href=\"/delhi/doctors-for-amniocentesis\"><h3 class=\"u-d-inline\">Doctors For Amniocentesis in Delhi</h3></a></div><div class=\"u-spacer--medium-top\" data-qa-id=\"sidebar_undefined_block\"><h2 class=\"u-bold u-smallest-font u-spacer--bottom-less\">Related treatments in Delhi</h2><a class=\"u-grey_3-text u-spacer--bottom-thin u-smallest-font u-bullet-separated\" data-qa-id=\"sidebar_undefined_name\" href=\"/delhi/treatment-for-dengue\"><h3 class=\"u-d-inline\">Treatment For Dengue in Delhi</h3></a><a class=\"u-grey_3-text u-spacer--bottom-thin u-smallest-font u-bullet-separated\" data-qa-id=\"sidebar_undefined_name\" href=\"/delhi/treatment-for-chest-pain\"><h3 class=\"u-d-inline\">Treatment For Chest Pain in Delhi</h3></a><a class=\"u-grey_3-text u-spacer--bottom-thin u-smallest-font u-bullet-separated\" data-qa-id=\"sidebar_undefined_name\" href=\"/delhi/treatment-for-pharyngitis\"><h3 class=\"u-d-inline\">Treatment For Pharyngitis in Delhi</h3></a><a class=\"u-grey_3-text u-spacer--bottom-thin u-smallest-font u-bullet-separated\" data-qa-id=\"sidebar_undefined_name\" href=\"/delhi/treatment-for-uterine-fibroids\"><h3 class=\"u-d-inline\">Treatment For Uterine Fibroids in Delhi</h3></a><a class=\"u-grey_3-text u-spacer--bottom-thin u-smallest-font u-bullet-separated\" data-qa-id=\"sidebar_undefined_name\" href=\"/delhi/treatment-for-cold-sores\"><h3 class=\"u-d-inline\">Treatment For Cold Sores in Delhi</h3></a><a class=\"u-grey_3-text u-spacer--bottom-thin u-smallest-font u-bullet-separated\" data-qa-id=\"sidebar_undefined_name\" href=\"/delhi/treatment-for-cramping\"><h3 class=\"u-d-inline\">Treatment For Cramping in Delhi</h3></a><a class=\"u-grey_3-text u-spacer--bottom-thin u-smallest-font u-bullet-separated\" data-qa-id=\"sidebar_undefined_name\" href=\"/delhi/treatment-for-mumps\"><h3 class=\"u-d-inline\">Treatment For Mumps in Delhi</h3></a><a class=\"u-grey_3-text u-spacer--bottom-thin u-smallest-font u-bullet-separated\" data-qa-id=\"sidebar_undefined_name\" href=\"/delhi/treatment-for-diarrhoea\"><h3 class=\"u-d-inline\">Treatment For Diarrhoea in Delhi</h3></a><a class=\"u-grey_3-text u-spacer--bottom-thin u-smallest-font u-bullet-separated\" data-qa-id=\"sidebar_undefined_name\" href=\"/delhi/treatment-for-larynx\"><h3 class=\"u-d-inline\">Treatment For Larynx in Delhi</h3></a><a class=\"u-grey_3-text u-spacer--bottom-thin u-smallest-font u-bullet-separated\" data-qa-id=\"sidebar_undefined_name\" href=\"/delhi/treatment-for-swelling\"><h3 class=\"u-d-inline\">Treatment For Swelling in Delhi</h3></a></div></div>,\n",
       " <div class=\"u-grey_3-text uv2-spacer--xs-top\">You are seeing results from <!-- -->Delhi<!-- -->. See results near you</div>]"
      ]
     },
     "execution_count": 8,
     "metadata": {},
     "output_type": "execute_result"
    }
   ],
   "source": [
    "p = soup.find_all(\"div\",class_=\"u-grey_3-text\")\n",
    "p"
   ]
  },
  {
   "cell_type": "code",
   "execution_count": 9,
   "id": "2a32b109",
   "metadata": {
    "ExecuteTime": {
     "end_time": "2022-12-02T11:42:02.771463Z",
     "start_time": "2022-12-02T11:42:02.749022Z"
    }
   },
   "outputs": [
    {
     "name": "stdout",
     "output_type": "stream",
     "text": [
      "['Gynecologist/Obstetrician', 'Gynecologist/Obstetrician', 'Gynecologist/Obstetrician', 'Gynecologist/Obstetrician', 'Gynecologist/Obstetrician', 'Gynecologist/Obstetrician', 'Gynecologist/Obstetrician', 'Gynecologist/Obstetrician', 'Gynecologist/Obstetrician', 'Gynecologist/Obstetrician']\n",
      "10\n"
     ]
    }
   ],
   "source": [
    "Specialist=re.findall(r\"(Gynecologist/Obstetrician)<\",str(p))\n",
    "Specialist\n",
    "#Specialist.remove('Gynecologist/Obstetrician')\n",
    "print(Specialist)\n",
    "print(len(Specialist))"
   ]
  },
  {
   "cell_type": "code",
   "execution_count": 10,
   "id": "04635326",
   "metadata": {
    "ExecuteTime": {
     "end_time": "2022-12-02T11:42:03.890414Z",
     "start_time": "2022-12-02T11:42:03.871688Z"
    }
   },
   "outputs": [],
   "source": [
    "dictionary = {\n",
    "    \"Doctor_name\":Doctor_name,\n",
    "    \"Specialist\":Specialist,\n",
    "    \"Experience\":experience,\n",
    "    \"City_name\":City_name,\n",
    "    \"Area\":Area,\n",
    "    \"Hospital_name\":Hospital_name,\n",
    "    \"Consultation_fee\":consultation_fee,\n",
    "    \"Recommendation\":recommendation,\n",
    "\n",
    "}"
   ]
  },
  {
   "cell_type": "code",
   "execution_count": 11,
   "id": "5c4d1130",
   "metadata": {
    "ExecuteTime": {
     "end_time": "2022-12-02T11:42:06.321486Z",
     "start_time": "2022-12-02T11:42:06.281830Z"
    }
   },
   "outputs": [
    {
     "data": {
      "text/html": [
       "<div>\n",
       "<style scoped>\n",
       "    .dataframe tbody tr th:only-of-type {\n",
       "        vertical-align: middle;\n",
       "    }\n",
       "\n",
       "    .dataframe tbody tr th {\n",
       "        vertical-align: top;\n",
       "    }\n",
       "\n",
       "    .dataframe thead th {\n",
       "        text-align: right;\n",
       "    }\n",
       "</style>\n",
       "<table border=\"1\" class=\"dataframe\">\n",
       "  <thead>\n",
       "    <tr style=\"text-align: right;\">\n",
       "      <th></th>\n",
       "      <th>Doctor_name</th>\n",
       "      <th>Specialist</th>\n",
       "      <th>Experience</th>\n",
       "      <th>City_name</th>\n",
       "      <th>Area</th>\n",
       "      <th>Hospital_name</th>\n",
       "      <th>Consultation_fee</th>\n",
       "      <th>Recommendation</th>\n",
       "    </tr>\n",
       "  </thead>\n",
       "  <tbody>\n",
       "    <tr>\n",
       "      <th>0</th>\n",
       "      <td>Dr. Madhu Ahuja</td>\n",
       "      <td>Gynecologist/Obstetrician</td>\n",
       "      <td>38</td>\n",
       "      <td>Delhi</td>\n",
       "      <td>Patparganj,</td>\n",
       "      <td>Cloudnine Hospitals</td>\n",
       "      <td>1100</td>\n",
       "      <td>93%</td>\n",
       "    </tr>\n",
       "    <tr>\n",
       "      <th>1</th>\n",
       "      <td>Dr. Keerti Khetan</td>\n",
       "      <td>Gynecologist/Obstetrician</td>\n",
       "      <td>29</td>\n",
       "      <td>Delhi</td>\n",
       "      <td>Pusa Road,</td>\n",
       "      <td>BLK-Max Super Speciality Hospital</td>\n",
       "      <td>1500</td>\n",
       "      <td>92%</td>\n",
       "    </tr>\n",
       "    <tr>\n",
       "      <th>2</th>\n",
       "      <td>Dr. Neha Khandelwal</td>\n",
       "      <td>Gynecologist/Obstetrician</td>\n",
       "      <td>17</td>\n",
       "      <td>Delhi</td>\n",
       "      <td>Greater Kailash Part 1,</td>\n",
       "      <td>FeHealth Clinic</td>\n",
       "      <td>1200</td>\n",
       "      <td>99%</td>\n",
       "    </tr>\n",
       "    <tr>\n",
       "      <th>3</th>\n",
       "      <td>Dr. Shikha Gurnani</td>\n",
       "      <td>Gynecologist/Obstetrician</td>\n",
       "      <td>19</td>\n",
       "      <td>Delhi</td>\n",
       "      <td>Dwarka,</td>\n",
       "      <td>Bloom Vision Clinic</td>\n",
       "      <td>800</td>\n",
       "      <td>98%</td>\n",
       "    </tr>\n",
       "    <tr>\n",
       "      <th>4</th>\n",
       "      <td>Dr. Bandana Sodhi</td>\n",
       "      <td>Gynecologist/Obstetrician</td>\n",
       "      <td>31</td>\n",
       "      <td>Delhi</td>\n",
       "      <td>Lajpat Nagar,</td>\n",
       "      <td>Women's Clinic</td>\n",
       "      <td>800</td>\n",
       "      <td>99%</td>\n",
       "    </tr>\n",
       "    <tr>\n",
       "      <th>5</th>\n",
       "      <td>Dr. Sushma Sinha</td>\n",
       "      <td>Gynecologist/Obstetrician</td>\n",
       "      <td>36</td>\n",
       "      <td>Delhi</td>\n",
       "      <td>Sarita Vihar,</td>\n",
       "      <td>Indraprastha Apollo Hospitals</td>\n",
       "      <td>2000</td>\n",
       "      <td>100%</td>\n",
       "    </tr>\n",
       "    <tr>\n",
       "      <th>6</th>\n",
       "      <td>Dr. Harmeet Malhotra</td>\n",
       "      <td>Gynecologist/Obstetrician</td>\n",
       "      <td>46</td>\n",
       "      <td>Delhi</td>\n",
       "      <td>Sarita Vihar,</td>\n",
       "      <td>Indraprastha Apollo Hospitals</td>\n",
       "      <td>2000</td>\n",
       "      <td>79%</td>\n",
       "    </tr>\n",
       "    <tr>\n",
       "      <th>7</th>\n",
       "      <td>Dr. Pratibha Gupta</td>\n",
       "      <td>Gynecologist/Obstetrician</td>\n",
       "      <td>21</td>\n",
       "      <td>Delhi</td>\n",
       "      <td>Janakpuri,</td>\n",
       "      <td>Healing Hands PG Gynaecology &amp; Urology Center</td>\n",
       "      <td>600</td>\n",
       "      <td>95%</td>\n",
       "    </tr>\n",
       "    <tr>\n",
       "      <th>8</th>\n",
       "      <td>Dr. Sarika Gupta</td>\n",
       "      <td>Gynecologist/Obstetrician</td>\n",
       "      <td>19</td>\n",
       "      <td>Delhi</td>\n",
       "      <td>Sarita Vihar,</td>\n",
       "      <td>Indraprastha Apollo Hospitals</td>\n",
       "      <td>1500</td>\n",
       "      <td>100%</td>\n",
       "    </tr>\n",
       "    <tr>\n",
       "      <th>9</th>\n",
       "      <td>Dr. Sutopa Banerjee</td>\n",
       "      <td>Gynecologist/Obstetrician</td>\n",
       "      <td>25</td>\n",
       "      <td>Delhi</td>\n",
       "      <td>Vasant Kunj,</td>\n",
       "      <td>Dr. Sutopa Banerjee's Complete Care for Women</td>\n",
       "      <td>1200</td>\n",
       "      <td>97%</td>\n",
       "    </tr>\n",
       "  </tbody>\n",
       "</table>\n",
       "</div>"
      ],
      "text/plain": [
       "            Doctor_name                 Specialist Experience City_name  \\\n",
       "0       Dr. Madhu Ahuja  Gynecologist/Obstetrician         38     Delhi   \n",
       "1     Dr. Keerti Khetan  Gynecologist/Obstetrician         29     Delhi   \n",
       "2   Dr. Neha Khandelwal  Gynecologist/Obstetrician         17     Delhi   \n",
       "3    Dr. Shikha Gurnani  Gynecologist/Obstetrician         19     Delhi   \n",
       "4     Dr. Bandana Sodhi  Gynecologist/Obstetrician         31     Delhi   \n",
       "5      Dr. Sushma Sinha  Gynecologist/Obstetrician         36     Delhi   \n",
       "6  Dr. Harmeet Malhotra  Gynecologist/Obstetrician         46     Delhi   \n",
       "7    Dr. Pratibha Gupta  Gynecologist/Obstetrician         21     Delhi   \n",
       "8      Dr. Sarika Gupta  Gynecologist/Obstetrician         19     Delhi   \n",
       "9   Dr. Sutopa Banerjee  Gynecologist/Obstetrician         25     Delhi   \n",
       "\n",
       "                      Area                                  Hospital_name  \\\n",
       "0              Patparganj,                            Cloudnine Hospitals   \n",
       "1               Pusa Road,              BLK-Max Super Speciality Hospital   \n",
       "2  Greater Kailash Part 1,                                FeHealth Clinic   \n",
       "3                  Dwarka,                            Bloom Vision Clinic   \n",
       "4            Lajpat Nagar,                                 Women's Clinic   \n",
       "5            Sarita Vihar,                  Indraprastha Apollo Hospitals   \n",
       "6            Sarita Vihar,                  Indraprastha Apollo Hospitals   \n",
       "7               Janakpuri,  Healing Hands PG Gynaecology & Urology Center   \n",
       "8            Sarita Vihar,                  Indraprastha Apollo Hospitals   \n",
       "9             Vasant Kunj,  Dr. Sutopa Banerjee's Complete Care for Women   \n",
       "\n",
       "  Consultation_fee Recommendation  \n",
       "0             1100           93%   \n",
       "1             1500           92%   \n",
       "2             1200           99%   \n",
       "3              800           98%   \n",
       "4              800           99%   \n",
       "5             2000          100%   \n",
       "6             2000           79%   \n",
       "7              600           95%   \n",
       "8             1500          100%   \n",
       "9             1200           97%   "
      ]
     },
     "execution_count": 11,
     "metadata": {},
     "output_type": "execute_result"
    }
   ],
   "source": [
    "Gynecologist_df1 = pd.DataFrame(dictionary)\n",
    "Gynecologist_df1"
   ]
  },
  {
   "cell_type": "code",
   "execution_count": 26,
   "id": "78b810b9",
   "metadata": {
    "ExecuteTime": {
     "end_time": "2022-12-02T11:48:04.006494Z",
     "start_time": "2022-12-02T11:48:02.726537Z"
    }
   },
   "outputs": [
    {
     "name": "stdout",
     "output_type": "stream",
     "text": [
      "['Dr. Meeka Gulati', 'Dr. Sourabh Nagpal', 'Dr. Deepa Singh', 'Dr. Yash Anand', 'Dr. Ankit Jain', 'Dr. Anil Kochar', 'Dr. Subhash.C.Gupta', 'Dr. Raj Arya', 'Dr. Anurag Singh', 'Dr. Ekta Narula']\n",
      "10\n",
      "----------------------------------------------------------------------------------------------------\n",
      "['Delhi', 'Delhi', 'Delhi', 'Delhi', 'Delhi', 'Delhi', 'Delhi', 'Delhi', 'Delhi', 'Delhi']\n",
      "10\n",
      "----------------------------------------------------------------------------------------------------\n",
      "['Janakpuri,', 'Vasant Vihar,', 'Mayur Vihar Ph-III,', 'Vikas Puri,', 'Tri Nagar,', 'Tilak Nagar,', 'Greater Kailash Part 2,', 'Dwarka,', 'Panchsheel Park,', 'New Rajendra Nagar,']\n",
      "10\n",
      "----------------------------------------------------------------------------------------------------\n",
      "['500', '500', '400', '300', '300', '500', '1000', '500', '1500', '600']\n",
      "10\n",
      "----------------------------------------------------------------------------------------------------\n",
      "['97% ', '99% ', '98% ', '96% ', '100% ', '98% ', '97% ', '98% ', '98% ', '98% ']\n",
      "10\n",
      "----------------------------------------------------------------------------------------------------\n",
      "['15', '17', '17', '13', '10', '25', '54', '25', '22', '24']\n",
      "10\n",
      "----------------------------------------------------------------------------------------------------\n"
     ]
    }
   ],
   "source": [
    "page = requests.get(\"https://www.practo.com/search/doctors?results_type=doctor&q=%5B%7B%22word%22%3A%22Dentist%22%2C%22autocompleted%22%3Atrue%2C%22category%22%3A%22subspeciality%22%7D%5D&city=Delhi\")\n",
    "page\n",
    "soup = BeautifulSoup(page.text)\n",
    "\n",
    "Doctor_name=[]\n",
    "for i in soup.find_all(\"h2\",class_=\"doctor-name\"):\n",
    "    Doctor_name.append(i.text)\n",
    "print(Doctor_name)\n",
    "print(len(Doctor_name))\n",
    "print(\"--\"*50)\n",
    "\n",
    "City_name=[]\n",
    "for i in soup.find_all(\"span\",class_=\"u-t-capitalize\"):\n",
    "    City_name.append(i.text)\n",
    "print(City_name)\n",
    "print(len(City_name))\n",
    "print(\"--\"*50)\n",
    "\n",
    "Area=[]\n",
    "for i in soup.find_all(\"span\",attrs={\"data-qa-id\":\"practice_locality\"}):\n",
    "    Area.append(i.text)\n",
    "print(Area)\n",
    "print(len(Area))\n",
    "print(\"--\"*50)\n",
    "\n",
    "q = soup.find_all(\"span\",attrs={\"data-qa-id\":\"consultation_fee\"})\n",
    "q\n",
    "consultation_fee=re.findall(r\"\\d+\\d+\\w+\",str(q))\n",
    "print(consultation_fee)\n",
    "print(len(consultation_fee))\n",
    "print(\"--\"*50)\n",
    "\n",
    "recommendation=[]\n",
    "for i in soup.find_all(\"span\",attrs={\"data-qa-id\":\"doctor_recommendation\"}):\n",
    "        recommendation.append(i.text)\n",
    "#recommendation.insert(2,\"nan\")\n",
    "print(recommendation)\n",
    "print(len(recommendation))\n",
    "print(\"--\"*50)\n",
    "\n",
    "s=soup.find_all('div',{\"data-qa-id\":\"doctor_experience\"})\n",
    "experience = re.findall(r\"(\\d+)<\",str(s))\n",
    "print(experience)\n",
    "print(len(experience))\n",
    "print(\"--\"*50)"
   ]
  },
  {
   "cell_type": "code",
   "execution_count": 30,
   "id": "7567dd79",
   "metadata": {
    "ExecuteTime": {
     "end_time": "2022-12-02T11:49:16.641824Z",
     "start_time": "2022-12-02T11:49:16.614025Z"
    }
   },
   "outputs": [
    {
     "name": "stdout",
     "output_type": "stream",
     "text": [
      "['Alps Dental Care', 'Matrix Dental & Skin Lounge', 'Multispeciality Dental Clinic', 'Yash Dental, Orthodontic And Aesthetic Centre', 'Arham Dental Care', 'Kochar Dental Clinic', 'Kamal Dental Clinic', 'Med Care Multispeciality Medical & Dental Laser Centre', 'Max Multi Speciality Centre - Panchsheel Park', \"Dr. Ekta Narula's Dental Care Centre\"]\n"
     ]
    },
    {
     "data": {
      "text/plain": [
       "10"
      ]
     },
     "execution_count": 30,
     "metadata": {},
     "output_type": "execute_result"
    }
   ],
   "source": [
    "Hospital_name=[]\n",
    "for i in soup.find_all(\"span\",class_=\"u-c-pointer u-t-hover-underline\"):\n",
    "    Hospital_name.append(i.text)\n",
    "Hospital_name.remove('\\xa0+ 3 more')\n",
    "Hospital_name.remove('\\xa0+ 2 more')\n",
    "Hospital_name.remove('\\xa0+ 2 more')\n",
    "Hospital_name.remove('\\xa0+ 3 more')\n",
    "#Hospital_name.remove('\\xa0+ 1 more')\n",
    "\n",
    "print(Hospital_name)\n",
    "len(Hospital_name)"
   ]
  },
  {
   "cell_type": "code",
   "execution_count": 31,
   "id": "8cb43f2a",
   "metadata": {
    "ExecuteTime": {
     "end_time": "2022-12-02T11:49:19.461311Z",
     "start_time": "2022-12-02T11:49:19.422233Z"
    },
    "scrolled": true
   },
   "outputs": [
    {
     "data": {
      "text/plain": [
       "10"
      ]
     },
     "execution_count": 31,
     "metadata": {},
     "output_type": "execute_result"
    }
   ],
   "source": [
    "p = soup.find_all(\"div\",class_=\"u-grey_3-text\")\n",
    "p\n",
    "Specialist = re.findall(r\"(Dentist)<\",str(p))\n",
    "Specialist\n",
    "Specialist.remove('Dentist')\n",
    "len(Specialist)"
   ]
  },
  {
   "cell_type": "code",
   "execution_count": 32,
   "id": "471cb260",
   "metadata": {
    "ExecuteTime": {
     "end_time": "2022-12-02T11:49:20.782628Z",
     "start_time": "2022-12-02T11:49:20.772446Z"
    }
   },
   "outputs": [],
   "source": [
    "dictionary = {\n",
    "    \"Doctor_name\":Doctor_name,\n",
    "    \"Specialist\":Specialist,\n",
    "    \"Experience\":experience,\n",
    "    \"City_name\":City_name,\n",
    "    \"Area\":Area,\n",
    "    \"Hospital_name\":Hospital_name,\n",
    "    \"Consultation_fee\":consultation_fee,\n",
    "    \"Recommendation\":recommendation,\n",
    "\n",
    "}"
   ]
  },
  {
   "cell_type": "code",
   "execution_count": 33,
   "id": "4763dfee",
   "metadata": {
    "ExecuteTime": {
     "end_time": "2022-12-02T11:49:22.142722Z",
     "start_time": "2022-12-02T11:49:22.111450Z"
    }
   },
   "outputs": [
    {
     "data": {
      "text/html": [
       "<div>\n",
       "<style scoped>\n",
       "    .dataframe tbody tr th:only-of-type {\n",
       "        vertical-align: middle;\n",
       "    }\n",
       "\n",
       "    .dataframe tbody tr th {\n",
       "        vertical-align: top;\n",
       "    }\n",
       "\n",
       "    .dataframe thead th {\n",
       "        text-align: right;\n",
       "    }\n",
       "</style>\n",
       "<table border=\"1\" class=\"dataframe\">\n",
       "  <thead>\n",
       "    <tr style=\"text-align: right;\">\n",
       "      <th></th>\n",
       "      <th>Doctor_name</th>\n",
       "      <th>Specialist</th>\n",
       "      <th>Experience</th>\n",
       "      <th>City_name</th>\n",
       "      <th>Area</th>\n",
       "      <th>Hospital_name</th>\n",
       "      <th>Consultation_fee</th>\n",
       "      <th>Recommendation</th>\n",
       "    </tr>\n",
       "  </thead>\n",
       "  <tbody>\n",
       "    <tr>\n",
       "      <th>0</th>\n",
       "      <td>Dr. Meeka Gulati</td>\n",
       "      <td>Dentist</td>\n",
       "      <td>15</td>\n",
       "      <td>Delhi</td>\n",
       "      <td>Janakpuri,</td>\n",
       "      <td>Alps Dental Care</td>\n",
       "      <td>500</td>\n",
       "      <td>97%</td>\n",
       "    </tr>\n",
       "    <tr>\n",
       "      <th>1</th>\n",
       "      <td>Dr. Sourabh Nagpal</td>\n",
       "      <td>Dentist</td>\n",
       "      <td>17</td>\n",
       "      <td>Delhi</td>\n",
       "      <td>Vasant Vihar,</td>\n",
       "      <td>Matrix Dental &amp; Skin Lounge</td>\n",
       "      <td>500</td>\n",
       "      <td>99%</td>\n",
       "    </tr>\n",
       "    <tr>\n",
       "      <th>2</th>\n",
       "      <td>Dr. Deepa Singh</td>\n",
       "      <td>Dentist</td>\n",
       "      <td>17</td>\n",
       "      <td>Delhi</td>\n",
       "      <td>Mayur Vihar Ph-III,</td>\n",
       "      <td>Multispeciality Dental Clinic</td>\n",
       "      <td>400</td>\n",
       "      <td>98%</td>\n",
       "    </tr>\n",
       "    <tr>\n",
       "      <th>3</th>\n",
       "      <td>Dr. Yash Anand</td>\n",
       "      <td>Dentist</td>\n",
       "      <td>13</td>\n",
       "      <td>Delhi</td>\n",
       "      <td>Vikas Puri,</td>\n",
       "      <td>Yash Dental, Orthodontic And Aesthetic Centre</td>\n",
       "      <td>300</td>\n",
       "      <td>96%</td>\n",
       "    </tr>\n",
       "    <tr>\n",
       "      <th>4</th>\n",
       "      <td>Dr. Ankit Jain</td>\n",
       "      <td>Dentist</td>\n",
       "      <td>10</td>\n",
       "      <td>Delhi</td>\n",
       "      <td>Tri Nagar,</td>\n",
       "      <td>Arham Dental Care</td>\n",
       "      <td>300</td>\n",
       "      <td>100%</td>\n",
       "    </tr>\n",
       "    <tr>\n",
       "      <th>5</th>\n",
       "      <td>Dr. Anil Kochar</td>\n",
       "      <td>Dentist</td>\n",
       "      <td>25</td>\n",
       "      <td>Delhi</td>\n",
       "      <td>Tilak Nagar,</td>\n",
       "      <td>Kochar Dental Clinic</td>\n",
       "      <td>500</td>\n",
       "      <td>98%</td>\n",
       "    </tr>\n",
       "    <tr>\n",
       "      <th>6</th>\n",
       "      <td>Dr. Subhash.C.Gupta</td>\n",
       "      <td>Dentist</td>\n",
       "      <td>54</td>\n",
       "      <td>Delhi</td>\n",
       "      <td>Greater Kailash Part 2,</td>\n",
       "      <td>Kamal Dental Clinic</td>\n",
       "      <td>1000</td>\n",
       "      <td>97%</td>\n",
       "    </tr>\n",
       "    <tr>\n",
       "      <th>7</th>\n",
       "      <td>Dr. Raj Arya</td>\n",
       "      <td>Dentist</td>\n",
       "      <td>25</td>\n",
       "      <td>Delhi</td>\n",
       "      <td>Dwarka,</td>\n",
       "      <td>Med Care Multispeciality Medical &amp; Dental Lase...</td>\n",
       "      <td>500</td>\n",
       "      <td>98%</td>\n",
       "    </tr>\n",
       "    <tr>\n",
       "      <th>8</th>\n",
       "      <td>Dr. Anurag Singh</td>\n",
       "      <td>Dentist</td>\n",
       "      <td>22</td>\n",
       "      <td>Delhi</td>\n",
       "      <td>Panchsheel Park,</td>\n",
       "      <td>Max Multi Speciality Centre - Panchsheel Park</td>\n",
       "      <td>1500</td>\n",
       "      <td>98%</td>\n",
       "    </tr>\n",
       "    <tr>\n",
       "      <th>9</th>\n",
       "      <td>Dr. Ekta Narula</td>\n",
       "      <td>Dentist</td>\n",
       "      <td>24</td>\n",
       "      <td>Delhi</td>\n",
       "      <td>New Rajendra Nagar,</td>\n",
       "      <td>Dr. Ekta Narula's Dental Care Centre</td>\n",
       "      <td>600</td>\n",
       "      <td>98%</td>\n",
       "    </tr>\n",
       "  </tbody>\n",
       "</table>\n",
       "</div>"
      ],
      "text/plain": [
       "           Doctor_name Specialist Experience City_name  \\\n",
       "0     Dr. Meeka Gulati    Dentist         15     Delhi   \n",
       "1   Dr. Sourabh Nagpal    Dentist         17     Delhi   \n",
       "2      Dr. Deepa Singh    Dentist         17     Delhi   \n",
       "3       Dr. Yash Anand    Dentist         13     Delhi   \n",
       "4       Dr. Ankit Jain    Dentist         10     Delhi   \n",
       "5      Dr. Anil Kochar    Dentist         25     Delhi   \n",
       "6  Dr. Subhash.C.Gupta    Dentist         54     Delhi   \n",
       "7         Dr. Raj Arya    Dentist         25     Delhi   \n",
       "8     Dr. Anurag Singh    Dentist         22     Delhi   \n",
       "9      Dr. Ekta Narula    Dentist         24     Delhi   \n",
       "\n",
       "                      Area                                      Hospital_name  \\\n",
       "0               Janakpuri,                                   Alps Dental Care   \n",
       "1            Vasant Vihar,                        Matrix Dental & Skin Lounge   \n",
       "2      Mayur Vihar Ph-III,                      Multispeciality Dental Clinic   \n",
       "3              Vikas Puri,      Yash Dental, Orthodontic And Aesthetic Centre   \n",
       "4               Tri Nagar,                                  Arham Dental Care   \n",
       "5             Tilak Nagar,                               Kochar Dental Clinic   \n",
       "6  Greater Kailash Part 2,                                Kamal Dental Clinic   \n",
       "7                  Dwarka,  Med Care Multispeciality Medical & Dental Lase...   \n",
       "8         Panchsheel Park,      Max Multi Speciality Centre - Panchsheel Park   \n",
       "9      New Rajendra Nagar,               Dr. Ekta Narula's Dental Care Centre   \n",
       "\n",
       "  Consultation_fee Recommendation  \n",
       "0              500           97%   \n",
       "1              500           99%   \n",
       "2              400           98%   \n",
       "3              300           96%   \n",
       "4              300          100%   \n",
       "5              500           98%   \n",
       "6             1000           97%   \n",
       "7              500           98%   \n",
       "8             1500           98%   \n",
       "9              600           98%   "
      ]
     },
     "execution_count": 33,
     "metadata": {},
     "output_type": "execute_result"
    }
   ],
   "source": [
    "Dentist_df1=pd.DataFrame(dictionary)\n",
    "Dentist_df1"
   ]
  },
  {
   "cell_type": "code",
   "execution_count": 34,
   "id": "e0f3a9fe",
   "metadata": {
    "ExecuteTime": {
     "end_time": "2022-12-02T11:53:38.439130Z",
     "start_time": "2022-12-02T11:53:35.841703Z"
    }
   },
   "outputs": [
    {
     "name": "stdout",
     "output_type": "stream",
     "text": [
      "['Dr. Yuvraj Arora Monga', 'Dr. Amitabh Khanna', 'Dr. Lalit Kumar', 'Dr. Anuj Gupta', 'Dr. V.S Isser', 'Dr. Anupama Khanna', 'Dr. Kalyanashish Das', 'Dr. Virendra Kumar Raju', 'Dr. Paru Sharma', 'Dr. K.S. Walia']\n",
      "10\n",
      "----------------------------------------------------------------------------------------------------\n",
      "['Delhi', 'Delhi', 'Delhi', 'Delhi', 'Delhi', 'Delhi', 'Delhi', 'Delhi', 'Delhi', 'Delhi']\n",
      "10\n",
      "----------------------------------------------------------------------------------------------------\n",
      "['Lajpat Nagar,', 'Dwarka,', 'Vivek Vihar,', 'Munirka,', 'Janakpuri,', 'Dwarka,', 'CR Park,', 'Dwarka,', 'Dwarka Sector 13,', 'Sarita Vihar,']\n",
      "10\n",
      "----------------------------------------------------------------------------------------------------\n",
      "['800', '1000', '600', '1250', '800', '800', '600', '1000', '600', '600']\n",
      "10\n",
      "----------------------------------------------------------------------------------------------------\n",
      "['83% ', '80% ', '98% ', '97% ', '92% ', '96% ', '100% ', '91% ', '99% ', '90% ']\n",
      "10\n",
      "----------------------------------------------------------------------------------------------------\n",
      "['25', '33', '43', '23', '38', '31', '23', '27', '30', '48']\n",
      "10\n",
      "----------------------------------------------------------------------------------------------------\n"
     ]
    }
   ],
   "source": [
    "page = requests.get(\"https://www.practo.com/search/doctors?results_type=doctor&q=%5B%7B%22word%22%3A%22General%20Physician%22%2C%22autocompleted%22%3Atrue%2C%22category%22%3A%22subspeciality%22%7D%5D&city=Delhi\")\n",
    "page\n",
    "soup = BeautifulSoup(page.text)\n",
    "\n",
    "Doctor_name=[]\n",
    "for i in soup.find_all(\"h2\",class_=\"doctor-name\"):\n",
    "    Doctor_name.append(i.text)\n",
    "print(Doctor_name)\n",
    "print(len(Doctor_name))\n",
    "print(\"--\"*50)\n",
    "\n",
    "City_name=[]\n",
    "for i in soup.find_all(\"span\",class_=\"u-t-capitalize\"):\n",
    "    City_name.append(i.text)\n",
    "print(City_name)\n",
    "print(len(City_name))\n",
    "print(\"--\"*50)\n",
    "\n",
    "Area=[]\n",
    "for i in soup.find_all(\"span\",attrs={\"data-qa-id\":\"practice_locality\"}):\n",
    "    Area.append(i.text)\n",
    "print(Area)\n",
    "print(len(Area))\n",
    "print(\"--\"*50)\n",
    "\n",
    "q = soup.find_all(\"span\",attrs={\"data-qa-id\":\"consultation_fee\"})\n",
    "q\n",
    "consultation_fee=re.findall(r\"\\d+\\d+\\w+\",str(q))\n",
    "print(consultation_fee)\n",
    "print(len(consultation_fee))\n",
    "print(\"--\"*50)\n",
    "\n",
    "recommendation=[]\n",
    "for i in soup.find_all(\"span\",attrs={\"data-qa-id\":\"doctor_recommendation\"}):\n",
    "        recommendation.append(i.text)\n",
    "#recommendation.insert(2,\"nan\")\n",
    "print(recommendation)\n",
    "print(len(recommendation))\n",
    "print(\"--\"*50)\n",
    "\n",
    "s=soup.find_all('div',{\"data-qa-id\":\"doctor_experience\"})\n",
    "experience = re.findall(r\"(\\d+)<\",str(s))\n",
    "print(experience)\n",
    "print(len(experience))\n",
    "print(\"--\"*50)"
   ]
  },
  {
   "cell_type": "code",
   "execution_count": 37,
   "id": "ee831ff6",
   "metadata": {
    "ExecuteTime": {
     "end_time": "2022-12-02T11:54:50.013580Z",
     "start_time": "2022-12-02T11:54:49.983519Z"
    }
   },
   "outputs": [
    {
     "name": "stdout",
     "output_type": "stream",
     "text": [
      "['Dr. Monga Clinic', 'Diabetes Speciality Center', 'Gupta Family Clinic', 'K L Chest + Diagnostic Clinic', 'Isser Medical Centre', 'Diabetes Speciality Center', 'Dr. K.Das Child Clinic', 'Aastha Medicare', \"Dr. Paru Sharma's Clinic\", 'Walia Medical and Maternity Centre']\n"
     ]
    },
    {
     "data": {
      "text/plain": [
       "10"
      ]
     },
     "execution_count": 37,
     "metadata": {},
     "output_type": "execute_result"
    }
   ],
   "source": [
    "Hospital_name=[]\n",
    "for i in soup.find_all(\"span\",class_=\"u-c-pointer u-t-hover-underline\"):\n",
    "    Hospital_name.append(i.text)\n",
    "Hospital_name.remove('\\xa0+ 3 more')\n",
    "#Hospital_name.remove('\\xa0+ 2 more')\n",
    "#Hospital_name.remove('\\xa0+ 18 more')\n",
    "Hospital_name.remove('\\xa0+ 1 more')\n",
    "Hospital_name.remove('\\xa0+ 1 more')\n",
    "\n",
    "print(Hospital_name)\n",
    "len(Hospital_name)"
   ]
  },
  {
   "cell_type": "code",
   "execution_count": 38,
   "id": "bbb9f3d0",
   "metadata": {
    "ExecuteTime": {
     "end_time": "2022-12-02T11:55:27.453584Z",
     "start_time": "2022-12-02T11:55:27.423638Z"
    }
   },
   "outputs": [
    {
     "data": {
      "text/plain": [
       "10"
      ]
     },
     "execution_count": 38,
     "metadata": {},
     "output_type": "execute_result"
    }
   ],
   "source": [
    "p = soup.find_all(\"div\",class_=\"u-grey_3-text\")\n",
    "p\n",
    "Specialist = re.findall(r\"(General Physician)<\",str(p))\n",
    "Specialist\n",
    "#Specialist.remove('General Physician')\n",
    "len(Specialist)"
   ]
  },
  {
   "cell_type": "code",
   "execution_count": 39,
   "id": "d904d1fc",
   "metadata": {
    "ExecuteTime": {
     "end_time": "2022-12-02T11:55:39.963654Z",
     "start_time": "2022-12-02T11:55:39.953017Z"
    }
   },
   "outputs": [],
   "source": [
    "dictionary = {\n",
    "    \"Doctor_name\":Doctor_name,\n",
    "    \"Specialist\":Specialist,\n",
    "    \"Experience\":experience,\n",
    "    \"City_name\":City_name,\n",
    "    \"Area\":Area,\n",
    "    \"Hospital_name\":Hospital_name,\n",
    "    \"Consultation_fee\":consultation_fee,\n",
    "    \"Recommendation\":recommendation,\n",
    "\n",
    "}"
   ]
  },
  {
   "cell_type": "code",
   "execution_count": 42,
   "id": "7824020f",
   "metadata": {
    "ExecuteTime": {
     "end_time": "2022-12-02T12:00:43.182204Z",
     "start_time": "2022-12-02T12:00:43.150207Z"
    }
   },
   "outputs": [
    {
     "data": {
      "text/html": [
       "<div>\n",
       "<style scoped>\n",
       "    .dataframe tbody tr th:only-of-type {\n",
       "        vertical-align: middle;\n",
       "    }\n",
       "\n",
       "    .dataframe tbody tr th {\n",
       "        vertical-align: top;\n",
       "    }\n",
       "\n",
       "    .dataframe thead th {\n",
       "        text-align: right;\n",
       "    }\n",
       "</style>\n",
       "<table border=\"1\" class=\"dataframe\">\n",
       "  <thead>\n",
       "    <tr style=\"text-align: right;\">\n",
       "      <th></th>\n",
       "      <th>Doctor_name</th>\n",
       "      <th>Specialist</th>\n",
       "      <th>Experience</th>\n",
       "      <th>City_name</th>\n",
       "      <th>Area</th>\n",
       "      <th>Hospital_name</th>\n",
       "      <th>Consultation_fee</th>\n",
       "      <th>Recommendation</th>\n",
       "    </tr>\n",
       "  </thead>\n",
       "  <tbody>\n",
       "    <tr>\n",
       "      <th>0</th>\n",
       "      <td>Dr. Yuvraj Arora Monga</td>\n",
       "      <td>General Physician</td>\n",
       "      <td>25</td>\n",
       "      <td>Delhi</td>\n",
       "      <td>Lajpat Nagar,</td>\n",
       "      <td>Dr. Monga Clinic</td>\n",
       "      <td>800</td>\n",
       "      <td>83%</td>\n",
       "    </tr>\n",
       "    <tr>\n",
       "      <th>1</th>\n",
       "      <td>Dr. Amitabh Khanna</td>\n",
       "      <td>General Physician</td>\n",
       "      <td>33</td>\n",
       "      <td>Delhi</td>\n",
       "      <td>Dwarka,</td>\n",
       "      <td>Diabetes Speciality Center</td>\n",
       "      <td>1000</td>\n",
       "      <td>80%</td>\n",
       "    </tr>\n",
       "    <tr>\n",
       "      <th>2</th>\n",
       "      <td>Dr. Lalit Kumar</td>\n",
       "      <td>General Physician</td>\n",
       "      <td>43</td>\n",
       "      <td>Delhi</td>\n",
       "      <td>Vivek Vihar,</td>\n",
       "      <td>Gupta Family Clinic</td>\n",
       "      <td>600</td>\n",
       "      <td>98%</td>\n",
       "    </tr>\n",
       "    <tr>\n",
       "      <th>3</th>\n",
       "      <td>Dr. Anuj Gupta</td>\n",
       "      <td>General Physician</td>\n",
       "      <td>23</td>\n",
       "      <td>Delhi</td>\n",
       "      <td>Munirka,</td>\n",
       "      <td>K L Chest + Diagnostic Clinic</td>\n",
       "      <td>1250</td>\n",
       "      <td>97%</td>\n",
       "    </tr>\n",
       "    <tr>\n",
       "      <th>4</th>\n",
       "      <td>Dr. V.S Isser</td>\n",
       "      <td>General Physician</td>\n",
       "      <td>38</td>\n",
       "      <td>Delhi</td>\n",
       "      <td>Janakpuri,</td>\n",
       "      <td>Isser Medical Centre</td>\n",
       "      <td>800</td>\n",
       "      <td>92%</td>\n",
       "    </tr>\n",
       "    <tr>\n",
       "      <th>5</th>\n",
       "      <td>Dr. Anupama Khanna</td>\n",
       "      <td>General Physician</td>\n",
       "      <td>31</td>\n",
       "      <td>Delhi</td>\n",
       "      <td>Dwarka,</td>\n",
       "      <td>Diabetes Speciality Center</td>\n",
       "      <td>800</td>\n",
       "      <td>96%</td>\n",
       "    </tr>\n",
       "    <tr>\n",
       "      <th>6</th>\n",
       "      <td>Dr. Kalyanashish Das</td>\n",
       "      <td>General Physician</td>\n",
       "      <td>23</td>\n",
       "      <td>Delhi</td>\n",
       "      <td>CR Park,</td>\n",
       "      <td>Dr. K.Das Child Clinic</td>\n",
       "      <td>600</td>\n",
       "      <td>100%</td>\n",
       "    </tr>\n",
       "    <tr>\n",
       "      <th>7</th>\n",
       "      <td>Dr. Virendra Kumar Raju</td>\n",
       "      <td>General Physician</td>\n",
       "      <td>27</td>\n",
       "      <td>Delhi</td>\n",
       "      <td>Dwarka,</td>\n",
       "      <td>Aastha Medicare</td>\n",
       "      <td>1000</td>\n",
       "      <td>91%</td>\n",
       "    </tr>\n",
       "    <tr>\n",
       "      <th>8</th>\n",
       "      <td>Dr. Paru Sharma</td>\n",
       "      <td>General Physician</td>\n",
       "      <td>30</td>\n",
       "      <td>Delhi</td>\n",
       "      <td>Dwarka Sector 13,</td>\n",
       "      <td>Dr. Paru Sharma's Clinic</td>\n",
       "      <td>600</td>\n",
       "      <td>99%</td>\n",
       "    </tr>\n",
       "    <tr>\n",
       "      <th>9</th>\n",
       "      <td>Dr. K.S. Walia</td>\n",
       "      <td>General Physician</td>\n",
       "      <td>48</td>\n",
       "      <td>Delhi</td>\n",
       "      <td>Sarita Vihar,</td>\n",
       "      <td>Walia Medical and Maternity Centre</td>\n",
       "      <td>600</td>\n",
       "      <td>90%</td>\n",
       "    </tr>\n",
       "  </tbody>\n",
       "</table>\n",
       "</div>"
      ],
      "text/plain": [
       "               Doctor_name         Specialist Experience City_name  \\\n",
       "0   Dr. Yuvraj Arora Monga  General Physician         25     Delhi   \n",
       "1       Dr. Amitabh Khanna  General Physician         33     Delhi   \n",
       "2          Dr. Lalit Kumar  General Physician         43     Delhi   \n",
       "3           Dr. Anuj Gupta  General Physician         23     Delhi   \n",
       "4            Dr. V.S Isser  General Physician         38     Delhi   \n",
       "5       Dr. Anupama Khanna  General Physician         31     Delhi   \n",
       "6     Dr. Kalyanashish Das  General Physician         23     Delhi   \n",
       "7  Dr. Virendra Kumar Raju  General Physician         27     Delhi   \n",
       "8          Dr. Paru Sharma  General Physician         30     Delhi   \n",
       "9           Dr. K.S. Walia  General Physician         48     Delhi   \n",
       "\n",
       "                Area                       Hospital_name Consultation_fee  \\\n",
       "0      Lajpat Nagar,                    Dr. Monga Clinic              800   \n",
       "1            Dwarka,          Diabetes Speciality Center             1000   \n",
       "2       Vivek Vihar,                 Gupta Family Clinic              600   \n",
       "3           Munirka,       K L Chest + Diagnostic Clinic             1250   \n",
       "4         Janakpuri,                Isser Medical Centre              800   \n",
       "5            Dwarka,          Diabetes Speciality Center              800   \n",
       "6           CR Park,              Dr. K.Das Child Clinic              600   \n",
       "7            Dwarka,                     Aastha Medicare             1000   \n",
       "8  Dwarka Sector 13,            Dr. Paru Sharma's Clinic              600   \n",
       "9      Sarita Vihar,  Walia Medical and Maternity Centre              600   \n",
       "\n",
       "  Recommendation  \n",
       "0           83%   \n",
       "1           80%   \n",
       "2           98%   \n",
       "3           97%   \n",
       "4           92%   \n",
       "5           96%   \n",
       "6          100%   \n",
       "7           91%   \n",
       "8           99%   \n",
       "9           90%   "
      ]
     },
     "execution_count": 42,
     "metadata": {},
     "output_type": "execute_result"
    }
   ],
   "source": [
    "General_Physician_df1 = pd.DataFrame(dictionary)\n",
    "General_Physician_df1"
   ]
  },
  {
   "cell_type": "code",
   "execution_count": 43,
   "id": "7d5af7b3",
   "metadata": {
    "ExecuteTime": {
     "end_time": "2022-12-02T12:03:47.477818Z",
     "start_time": "2022-12-02T12:03:45.325676Z"
    }
   },
   "outputs": [
    {
     "name": "stdout",
     "output_type": "stream",
     "text": [
      "['Dr. Vijay Singhal', 'Dr. A J Kanwar', 'Dr. Nipun Jain', 'Dr. Deepti  Shrivastava', 'Dr. Lipy Gupta', 'Dr. Richa Sharma', 'Dr. Shruti Gupta', 'Dr. Anuva Bansal', 'Dr. Manu Saxena', 'Dr. Sandeep Gupta']\n",
      "10\n",
      "----------------------------------------------------------------------------------------------------\n",
      "['Delhi', 'Delhi', 'Delhi', 'Delhi', 'Delhi', 'Delhi', 'Delhi', 'Delhi', 'Delhi', 'Delhi']\n",
      "10\n",
      "----------------------------------------------------------------------------------------------------\n",
      "['Punjabi Bagh,', 'Greater Kailash Part 1,', 'Dwarka,', 'Anand Vihar,', 'Green Park,', 'Dwarka,', 'Kamla Nagar,', 'Pusa Road,', 'Nehru Place,', 'Hari Nagar,']\n",
      "10\n",
      "----------------------------------------------------------------------------------------------------\n",
      "['800', '1500', '700', '800', '800', '1500', '1000', '1400', '1000', '600']\n",
      "10\n",
      "----------------------------------------------------------------------------------------------------\n",
      "['93% ', '95% ', '98% ', '95% ', '96% ', '96% ', '99% ', '100% ', '75% ', '94% ']\n",
      "10\n",
      "----------------------------------------------------------------------------------------------------\n",
      "['17', '51', '25', '27', '17', '25', '12', '9', '34', '18']\n",
      "10\n",
      "----------------------------------------------------------------------------------------------------\n"
     ]
    }
   ],
   "source": [
    "page = requests.get(\"\"\"https://www.practo.com/search/doctors?results_type=doctor&q=%5B%7B%22word%22%3A%22Dermatologist%22%2C%22autocompleted%22%3Atrue%2C%22category%22%3A%22subspeciality%22%7D%5D&city=Delhi\"\"\")\n",
    "soup = BeautifulSoup(page.text)\n",
    "Doctor_name=[]\n",
    "for i in soup.find_all(\"h2\",class_=\"doctor-name\"):\n",
    "    Doctor_name.append(i.text)\n",
    "print(Doctor_name)\n",
    "print(len(Doctor_name))\n",
    "print(\"--\"*50)\n",
    "\n",
    "City_name=[]\n",
    "for i in soup.find_all(\"span\",class_=\"u-t-capitalize\"):\n",
    "    City_name.append(i.text)\n",
    "print(City_name)\n",
    "print(len(City_name))\n",
    "print(\"--\"*50)\n",
    "\n",
    "Area=[]\n",
    "for i in soup.find_all(\"span\",attrs={\"data-qa-id\":\"practice_locality\"}):\n",
    "    Area.append(i.text)\n",
    "print(Area)\n",
    "print(len(Area))\n",
    "print(\"--\"*50)\n",
    "\n",
    "q = soup.find_all(\"span\",attrs={\"data-qa-id\":\"consultation_fee\"})\n",
    "q\n",
    "consultation_fee=re.findall(r\"\\d+\\d+\\w+\",str(q))\n",
    "print(consultation_fee)\n",
    "print(len(consultation_fee))\n",
    "print(\"--\"*50)\n",
    "\n",
    "recommendation=[]\n",
    "for i in soup.find_all(\"span\",attrs={\"data-qa-id\":\"doctor_recommendation\"}):\n",
    "        recommendation.append(i.text)\n",
    "#recommendation.insert(2,\"nan\")\n",
    "print(recommendation)\n",
    "print(len(recommendation))\n",
    "print(\"--\"*50)\n",
    "\n",
    "s=soup.find_all('div',{\"data-qa-id\":\"doctor_experience\"})\n",
    "experience = re.findall(r\"(\\d+)<\",str(s))\n",
    "print(experience)\n",
    "print(len(experience))\n",
    "print(\"--\"*50)"
   ]
  },
  {
   "cell_type": "code",
   "execution_count": 45,
   "id": "3a2c336d",
   "metadata": {
    "ExecuteTime": {
     "end_time": "2022-12-02T12:04:33.670554Z",
     "start_time": "2022-12-02T12:04:33.630557Z"
    }
   },
   "outputs": [
    {
     "name": "stdout",
     "output_type": "stream",
     "text": [
      "['Zenith Skin Hair & Dental Centre', 'Dr AJ Kanwar Skin Clinic', 'Aura Skin Cosmetology Clinic', 'Skin Hair & You', 'Green Park Family Medicine Clinic', 'Twacha Skin Clinic', 'SKINOS', 'BLK-Max Super Speciality Hospital', 'Apollo Spectra Hospital', 'Balaji Skin Clinic']\n"
     ]
    },
    {
     "data": {
      "text/plain": [
       "10"
      ]
     },
     "execution_count": 45,
     "metadata": {},
     "output_type": "execute_result"
    }
   ],
   "source": [
    "Hospital_name=[]\n",
    "for i in soup.find_all(\"span\",class_=\"u-c-pointer u-t-hover-underline\"):\n",
    "    Hospital_name.append(i.text)\n",
    "Hospital_name.remove('\\xa0+ 1 more')\n",
    "Hospital_name.remove('\\xa0+ 1 more')\n",
    "Hospital_name.remove('\\xa0+ 1 more')\n",
    "Hospital_name.remove('\\xa0+ 1 more')\n",
    "#Hospital_name.remove('\\xa0+ 1 more')\n",
    "\n",
    "print(Hospital_name)\n",
    "len(Hospital_name)"
   ]
  },
  {
   "cell_type": "code",
   "execution_count": 47,
   "id": "235388d1",
   "metadata": {
    "ExecuteTime": {
     "end_time": "2022-12-02T12:05:39.706724Z",
     "start_time": "2022-12-02T12:05:39.666711Z"
    }
   },
   "outputs": [
    {
     "data": {
      "text/plain": [
       "10"
      ]
     },
     "execution_count": 47,
     "metadata": {},
     "output_type": "execute_result"
    }
   ],
   "source": [
    "p = soup.find_all(\"div\",class_=\"u-grey_3-text\")\n",
    "p\n",
    "Specialist = re.findall(r\"(Dermatologist)<\",str(p))\n",
    "Specialist\n",
    "Specialist.remove('Dermatologist')\n",
    "len(Specialist)"
   ]
  },
  {
   "cell_type": "code",
   "execution_count": 48,
   "id": "296479bd",
   "metadata": {
    "ExecuteTime": {
     "end_time": "2022-12-02T12:05:50.125026Z",
     "start_time": "2022-12-02T12:05:50.101013Z"
    }
   },
   "outputs": [],
   "source": [
    "dictionary = {\n",
    "    \"Doctor_name\":Doctor_name,\n",
    "    \"Specialist\":Specialist,\n",
    "    \"Experience\":experience,\n",
    "    \"City_name\":City_name,\n",
    "    \"Area\":Area,\n",
    "    \"Hospital_name\":Hospital_name,\n",
    "    \"Consultation_fee\":consultation_fee,\n",
    "    \"Recommendation\":recommendation,\n",
    "\n",
    "}"
   ]
  },
  {
   "cell_type": "code",
   "execution_count": 49,
   "id": "f6aceeeb",
   "metadata": {
    "ExecuteTime": {
     "end_time": "2022-12-02T12:06:30.979789Z",
     "start_time": "2022-12-02T12:06:30.955790Z"
    }
   },
   "outputs": [
    {
     "data": {
      "text/html": [
       "<div>\n",
       "<style scoped>\n",
       "    .dataframe tbody tr th:only-of-type {\n",
       "        vertical-align: middle;\n",
       "    }\n",
       "\n",
       "    .dataframe tbody tr th {\n",
       "        vertical-align: top;\n",
       "    }\n",
       "\n",
       "    .dataframe thead th {\n",
       "        text-align: right;\n",
       "    }\n",
       "</style>\n",
       "<table border=\"1\" class=\"dataframe\">\n",
       "  <thead>\n",
       "    <tr style=\"text-align: right;\">\n",
       "      <th></th>\n",
       "      <th>Doctor_name</th>\n",
       "      <th>Specialist</th>\n",
       "      <th>Experience</th>\n",
       "      <th>City_name</th>\n",
       "      <th>Area</th>\n",
       "      <th>Hospital_name</th>\n",
       "      <th>Consultation_fee</th>\n",
       "      <th>Recommendation</th>\n",
       "    </tr>\n",
       "  </thead>\n",
       "  <tbody>\n",
       "    <tr>\n",
       "      <th>0</th>\n",
       "      <td>Dr. Vijay Singhal</td>\n",
       "      <td>Dermatologist</td>\n",
       "      <td>17</td>\n",
       "      <td>Delhi</td>\n",
       "      <td>Punjabi Bagh,</td>\n",
       "      <td>Zenith Skin Hair &amp; Dental Centre</td>\n",
       "      <td>800</td>\n",
       "      <td>93%</td>\n",
       "    </tr>\n",
       "    <tr>\n",
       "      <th>1</th>\n",
       "      <td>Dr. A J Kanwar</td>\n",
       "      <td>Dermatologist</td>\n",
       "      <td>51</td>\n",
       "      <td>Delhi</td>\n",
       "      <td>Greater Kailash Part 1,</td>\n",
       "      <td>Dr AJ Kanwar Skin Clinic</td>\n",
       "      <td>1500</td>\n",
       "      <td>95%</td>\n",
       "    </tr>\n",
       "    <tr>\n",
       "      <th>2</th>\n",
       "      <td>Dr. Nipun Jain</td>\n",
       "      <td>Dermatologist</td>\n",
       "      <td>25</td>\n",
       "      <td>Delhi</td>\n",
       "      <td>Dwarka,</td>\n",
       "      <td>Aura Skin Cosmetology Clinic</td>\n",
       "      <td>700</td>\n",
       "      <td>98%</td>\n",
       "    </tr>\n",
       "    <tr>\n",
       "      <th>3</th>\n",
       "      <td>Dr. Deepti  Shrivastava</td>\n",
       "      <td>Dermatologist</td>\n",
       "      <td>27</td>\n",
       "      <td>Delhi</td>\n",
       "      <td>Anand Vihar,</td>\n",
       "      <td>Skin Hair &amp; You</td>\n",
       "      <td>800</td>\n",
       "      <td>95%</td>\n",
       "    </tr>\n",
       "    <tr>\n",
       "      <th>4</th>\n",
       "      <td>Dr. Lipy Gupta</td>\n",
       "      <td>Dermatologist</td>\n",
       "      <td>17</td>\n",
       "      <td>Delhi</td>\n",
       "      <td>Green Park,</td>\n",
       "      <td>Green Park Family Medicine Clinic</td>\n",
       "      <td>800</td>\n",
       "      <td>96%</td>\n",
       "    </tr>\n",
       "    <tr>\n",
       "      <th>5</th>\n",
       "      <td>Dr. Richa Sharma</td>\n",
       "      <td>Dermatologist</td>\n",
       "      <td>25</td>\n",
       "      <td>Delhi</td>\n",
       "      <td>Dwarka,</td>\n",
       "      <td>Twacha Skin Clinic</td>\n",
       "      <td>1500</td>\n",
       "      <td>96%</td>\n",
       "    </tr>\n",
       "    <tr>\n",
       "      <th>6</th>\n",
       "      <td>Dr. Shruti Gupta</td>\n",
       "      <td>Dermatologist</td>\n",
       "      <td>12</td>\n",
       "      <td>Delhi</td>\n",
       "      <td>Kamla Nagar,</td>\n",
       "      <td>SKINOS</td>\n",
       "      <td>1000</td>\n",
       "      <td>99%</td>\n",
       "    </tr>\n",
       "    <tr>\n",
       "      <th>7</th>\n",
       "      <td>Dr. Anuva Bansal</td>\n",
       "      <td>Dermatologist</td>\n",
       "      <td>9</td>\n",
       "      <td>Delhi</td>\n",
       "      <td>Pusa Road,</td>\n",
       "      <td>BLK-Max Super Speciality Hospital</td>\n",
       "      <td>1400</td>\n",
       "      <td>100%</td>\n",
       "    </tr>\n",
       "    <tr>\n",
       "      <th>8</th>\n",
       "      <td>Dr. Manu Saxena</td>\n",
       "      <td>Dermatologist</td>\n",
       "      <td>34</td>\n",
       "      <td>Delhi</td>\n",
       "      <td>Nehru Place,</td>\n",
       "      <td>Apollo Spectra Hospital</td>\n",
       "      <td>1000</td>\n",
       "      <td>75%</td>\n",
       "    </tr>\n",
       "    <tr>\n",
       "      <th>9</th>\n",
       "      <td>Dr. Sandeep Gupta</td>\n",
       "      <td>Dermatologist</td>\n",
       "      <td>18</td>\n",
       "      <td>Delhi</td>\n",
       "      <td>Hari Nagar,</td>\n",
       "      <td>Balaji Skin Clinic</td>\n",
       "      <td>600</td>\n",
       "      <td>94%</td>\n",
       "    </tr>\n",
       "  </tbody>\n",
       "</table>\n",
       "</div>"
      ],
      "text/plain": [
       "               Doctor_name     Specialist Experience City_name  \\\n",
       "0        Dr. Vijay Singhal  Dermatologist         17     Delhi   \n",
       "1           Dr. A J Kanwar  Dermatologist         51     Delhi   \n",
       "2           Dr. Nipun Jain  Dermatologist         25     Delhi   \n",
       "3  Dr. Deepti  Shrivastava  Dermatologist         27     Delhi   \n",
       "4           Dr. Lipy Gupta  Dermatologist         17     Delhi   \n",
       "5         Dr. Richa Sharma  Dermatologist         25     Delhi   \n",
       "6         Dr. Shruti Gupta  Dermatologist         12     Delhi   \n",
       "7         Dr. Anuva Bansal  Dermatologist          9     Delhi   \n",
       "8          Dr. Manu Saxena  Dermatologist         34     Delhi   \n",
       "9        Dr. Sandeep Gupta  Dermatologist         18     Delhi   \n",
       "\n",
       "                      Area                      Hospital_name  \\\n",
       "0            Punjabi Bagh,   Zenith Skin Hair & Dental Centre   \n",
       "1  Greater Kailash Part 1,           Dr AJ Kanwar Skin Clinic   \n",
       "2                  Dwarka,       Aura Skin Cosmetology Clinic   \n",
       "3             Anand Vihar,                    Skin Hair & You   \n",
       "4              Green Park,  Green Park Family Medicine Clinic   \n",
       "5                  Dwarka,                 Twacha Skin Clinic   \n",
       "6             Kamla Nagar,                             SKINOS   \n",
       "7               Pusa Road,  BLK-Max Super Speciality Hospital   \n",
       "8             Nehru Place,            Apollo Spectra Hospital   \n",
       "9              Hari Nagar,                 Balaji Skin Clinic   \n",
       "\n",
       "  Consultation_fee Recommendation  \n",
       "0              800           93%   \n",
       "1             1500           95%   \n",
       "2              700           98%   \n",
       "3              800           95%   \n",
       "4              800           96%   \n",
       "5             1500           96%   \n",
       "6             1000           99%   \n",
       "7             1400          100%   \n",
       "8             1000           75%   \n",
       "9              600           94%   "
      ]
     },
     "execution_count": 49,
     "metadata": {},
     "output_type": "execute_result"
    }
   ],
   "source": [
    "Dermatologist_df1 = pd.DataFrame(dictionary)\n",
    "Dermatologist_df1"
   ]
  },
  {
   "cell_type": "code",
   "execution_count": 51,
   "id": "5537c0fd",
   "metadata": {
    "ExecuteTime": {
     "end_time": "2022-12-02T12:08:59.380565Z",
     "start_time": "2022-12-02T12:08:58.308657Z"
    }
   },
   "outputs": [
    {
     "name": "stdout",
     "output_type": "stream",
     "text": [
      "['Dr. B K Agarwal', 'Dr. Rajesh Kr. Bhardwaj', 'Dr. Jayant Jaswal', 'Dr. Sabir Husain Ansari', 'Dr. Manish Arya', 'Dr. Munish Taneja', 'Dr. (Major) Vipin Kakar Retd', 'Dr. Neeru Chugh Dhingra', 'Dr. Rajeev Puri', 'Dr. Anshul Gupta']\n",
      "10\n",
      "----------------------------------------------------------------------------------------------------\n",
      "['Delhi', 'Delhi', 'Delhi', 'Delhi', 'Delhi', 'Delhi', 'Delhi', 'Delhi', 'Delhi', 'Delhi']\n",
      "10\n",
      "----------------------------------------------------------------------------------------------------\n",
      "['Janakpuri,', 'Vasant Vihar,', 'Dwarka,', 'Sarita Vihar,', 'Dwarka,', 'Dwarka,', 'Pitampura,', 'Pitampura,', 'Sarita Vihar,', 'Pitampura,']\n",
      "10\n",
      "----------------------------------------------------------------------------------------------------\n",
      "['700', '2500', '1000', '1500', '600', '600', '1200', '700', '2000', '800']\n",
      "10\n",
      "----------------------------------------------------------------------------------------------------\n",
      "['98% ', '97% ', '89% ', 'nan', '99% ', '89% ', '94% ', '96% ', '88% ', '83% ']\n",
      "10\n",
      "----------------------------------------------------------------------------------------------------\n",
      "['37', '39', '35', '51', '12', '25', '33', '20', '44', '17']\n",
      "10\n",
      "----------------------------------------------------------------------------------------------------\n"
     ]
    }
   ],
   "source": [
    "page = requests.get(\"\"\"https://www.practo.com/search/doctors?results_type=doctor&q=%5B%7B%22word%22%3A%22Ear-nose-throat%20(ent)%20Specialist%22%2C%22autocompleted%22%3Atrue%2C%22category%22%3A%22subspeciality%22%7D%5D&city=Delhi\"\"\")\n",
    "soup = BeautifulSoup(page.text)\n",
    "Doctor_name=[]\n",
    "for i in soup.find_all(\"h2\",class_=\"doctor-name\"):\n",
    "    Doctor_name.append(i.text)\n",
    "print(Doctor_name)\n",
    "print(len(Doctor_name))\n",
    "print(\"--\"*50)\n",
    "\n",
    "City_name=[]\n",
    "for i in soup.find_all(\"span\",class_=\"u-t-capitalize\"):\n",
    "    City_name.append(i.text)\n",
    "print(City_name)\n",
    "print(len(City_name))\n",
    "print(\"--\"*50)\n",
    "\n",
    "Area=[]\n",
    "for i in soup.find_all(\"span\",attrs={\"data-qa-id\":\"practice_locality\"}):\n",
    "    Area.append(i.text)\n",
    "print(Area)\n",
    "print(len(Area))\n",
    "print(\"--\"*50)\n",
    "\n",
    "q = soup.find_all(\"span\",attrs={\"data-qa-id\":\"consultation_fee\"})\n",
    "q\n",
    "consultation_fee=re.findall(r\"\\d+\\d+\\w+\",str(q))\n",
    "print(consultation_fee)\n",
    "print(len(consultation_fee))\n",
    "print(\"--\"*50)\n",
    "\n",
    "recommendation=[]\n",
    "for i in soup.find_all(\"span\",attrs={\"data-qa-id\":\"doctor_recommendation\"}):\n",
    "        recommendation.append(i.text)\n",
    "recommendation.insert(3,\"nan\")\n",
    "print(recommendation)\n",
    "print(len(recommendation))\n",
    "print(\"--\"*50)\n",
    "\n",
    "s=soup.find_all('div',{\"data-qa-id\":\"doctor_experience\"})\n",
    "experience = re.findall(r\"(\\d+)<\",str(s))\n",
    "print(experience)\n",
    "print(len(experience))\n",
    "print(\"--\"*50)"
   ]
  },
  {
   "cell_type": "code",
   "execution_count": 54,
   "id": "eb8ed993",
   "metadata": {
    "ExecuteTime": {
     "end_time": "2022-12-02T12:10:36.372543Z",
     "start_time": "2022-12-02T12:10:36.340524Z"
    }
   },
   "outputs": [
    {
     "name": "stdout",
     "output_type": "stream",
     "text": [
      "['ENT Care Centre', 'Med First ENT Center', 'Sanjeevani Clinic', 'Indraprastha Apollo Hospitals', \"Dr Manish Arya's ENT Clinic\", \"Dr Taneja's Clinic\", 'ENT & Swar Clinic', \"Dr. Dhingra's ENT Care Centre\", 'Indraprastha Apollo Hospitals', 'Dr. Gupta ENT & Dental Care Centre']\n"
     ]
    },
    {
     "data": {
      "text/plain": [
       "10"
      ]
     },
     "execution_count": 54,
     "metadata": {},
     "output_type": "execute_result"
    }
   ],
   "source": [
    "Hospital_name=[]\n",
    "for i in soup.find_all(\"span\",class_=\"u-c-pointer u-t-hover-underline\"):\n",
    "    Hospital_name.append(i.text)\n",
    "Hospital_name.remove('\\xa0+ 1 more')\n",
    "Hospital_name.remove('\\xa0+ 3 more')\n",
    "Hospital_name.remove('\\xa0+ 3 more')\n",
    "Hospital_name.remove('\\xa0+ 2 more')\n",
    "Hospital_name.remove('\\xa0+ 2 more')\n",
    "Hospital_name.remove('\\xa0+ 1 more')\n",
    "print(Hospital_name)\n",
    "len(Hospital_name)"
   ]
  },
  {
   "cell_type": "code",
   "execution_count": 56,
   "id": "6b0ed70f",
   "metadata": {
    "ExecuteTime": {
     "end_time": "2022-12-02T12:12:06.456235Z",
     "start_time": "2022-12-02T12:12:06.432215Z"
    },
    "scrolled": true
   },
   "outputs": [
    {
     "data": {
      "text/plain": [
       "[<div class=\"u-grey_3-text u-smallest-font\">Fed up of endless wait?</div>,\n",
       " <div class=\"u-grey_3-text\"><div class=\"u-d-flex\"><span>Ear-Nose-Throat (ENT) Specialist</span></div><div class=\"uv2-spacer--xs-top\" data-qa-id=\"doctor_experience\"><div>37<!-- --> <span>years experience overall</span></div></div></div>,\n",
       " <div class=\"u-grey_3-text\"><div class=\"u-d-flex\"><span>Ear-Nose-Throat (ENT) Specialist</span></div><div class=\"uv2-spacer--xs-top\" data-qa-id=\"doctor_experience\"><div>39<!-- --> <span>years experience overall</span></div></div></div>,\n",
       " <div class=\"u-grey_3-text\"><div class=\"u-d-flex\"><span>Ear-Nose-Throat (ENT) Specialist</span></div><div class=\"uv2-spacer--xs-top\" data-qa-id=\"doctor_experience\"><div>35<!-- --> <span>years experience overall</span></div></div></div>,\n",
       " <div class=\"u-grey_3-text\"><div class=\"u-d-flex\"><span>Ear-Nose-Throat (ENT) Specialist</span></div><div class=\"uv2-spacer--xs-top\" data-qa-id=\"doctor_experience\"><div>51<!-- --> <span>years experience overall</span></div></div></div>,\n",
       " <div class=\"u-grey_3-text\"><div class=\"u-d-flex\"><span>Ear-Nose-Throat (ENT) Specialist</span></div><div class=\"uv2-spacer--xs-top\" data-qa-id=\"doctor_experience\"><div>12<!-- --> <span>years experience overall</span></div></div></div>,\n",
       " <div class=\"u-grey_3-text\"><div class=\"u-d-flex\"><span>Ear-Nose-Throat (ENT) Specialist</span></div><div class=\"uv2-spacer--xs-top\" data-qa-id=\"doctor_experience\"><div>25<!-- --> <span>years experience overall</span></div></div></div>,\n",
       " <div class=\"u-grey_3-text\"><div class=\"u-d-flex\"><span>Ear-Nose-Throat (ENT) Specialist</span></div><div class=\"uv2-spacer--xs-top\" data-qa-id=\"doctor_experience\"><div>33<!-- --> <span>years experience overall</span></div></div></div>,\n",
       " <div class=\"u-grey_3-text\"><div class=\"u-d-flex\"><span>Ear-Nose-Throat (ENT) Specialist</span></div><div class=\"uv2-spacer--xs-top\" data-qa-id=\"doctor_experience\"><div>20<!-- --> <span>years experience overall</span></div></div></div>,\n",
       " <div class=\"u-grey_3-text\"><div class=\"u-d-flex\"><span>Ear-Nose-Throat (ENT) Specialist</span></div><div class=\"uv2-spacer--xs-top\" data-qa-id=\"doctor_experience\"><div>44<!-- --> <span>years experience overall</span></div></div></div>,\n",
       " <div class=\"u-grey_3-text\"><div class=\"u-d-flex\"><span>Ear-Nose-Throat (ENT) Specialist</span></div><div class=\"uv2-spacer--xs-top\" data-qa-id=\"doctor_experience\"><div>17<!-- --> <span>years experience overall</span></div></div></div>,\n",
       " <div class=\"u-d-inlineblock u-grey_3-text u-smallest-font\"><span class=\"u-spacer--right-thin u-spacer--left-thin\">•</span><span><span>Average Ratings</span></span><div class=\"u-pos-rel u-d-inlineblock\" data-qa-id=\"star_rating\" title=\"4.6\"><div class=\"\"><span class=\"u-green-text\"><i class=\"icon-ic_star_solid\"></i><i class=\"icon-ic_star_solid\"></i><i class=\"icon-ic_star_solid\"></i><i class=\"icon-ic_star_solid\"></i><i class=\"icon-ic_star_half\"></i></span><span>4.6<!-- --> </span></div></div><span> (<!-- -->866 <span>Reviews &amp; Ratings</span>)</span></div>,\n",
       " <div class=\"u-grey_3-text\"><div class=\"\" data-qa-id=\"sidebar_undefined_block\"><h2 class=\"u-bold u-smallest-font u-spacer--bottom-less\">Ear-nose-throat (ent) Specialist in top localities</h2><a class=\"u-grey_3-text u-spacer--bottom-thin u-smallest-font u-bullet-separated\" data-qa-id=\"sidebar_undefined_name\" href=\"/delhi/ear-nose-throat-ent-specialist/ghazipur\"><h3 class=\"u-d-inline\">Ear-nose-throat (ent) Specialist in Ghazipur</h3></a><a class=\"u-grey_3-text u-spacer--bottom-thin u-smallest-font u-bullet-separated\" data-qa-id=\"sidebar_undefined_name\" href=\"/delhi/ear-nose-throat-ent-specialist/krishna-nagar\"><h3 class=\"u-d-inline\">Ear-nose-throat (ent) Specialist in Krishna Nagar</h3></a><a class=\"u-grey_3-text u-spacer--bottom-thin u-smallest-font u-bullet-separated\" data-qa-id=\"sidebar_undefined_name\" href=\"/delhi/ear-nose-throat-ent-specialist/gtb-nagar\"><h3 class=\"u-d-inline\">Ear-nose-throat (ent) Specialist in Gtb Nagar</h3></a><a class=\"u-grey_3-text u-spacer--bottom-thin u-smallest-font u-bullet-separated\" data-qa-id=\"sidebar_undefined_name\" href=\"/delhi/ear-nose-throat-ent-specialist/paschim-vihar\"><h3 class=\"u-d-inline\">Ear-nose-throat (ent) Specialist in Paschim Vihar</h3></a><a class=\"u-grey_3-text u-spacer--bottom-thin u-smallest-font u-bullet-separated\" data-qa-id=\"sidebar_undefined_name\" href=\"/delhi/ear-nose-throat-ent-specialist/khanpur\"><h3 class=\"u-d-inline\">Ear-nose-throat (ent) Specialist in Khanpur</h3></a><a class=\"u-grey_3-text u-spacer--bottom-thin u-smallest-font u-bullet-separated\" data-qa-id=\"sidebar_undefined_name\" href=\"/delhi/ear-nose-throat-ent-specialist/chawri-bazar\"><h3 class=\"u-d-inline\">Ear-nose-throat (ent) Specialist in Chawri Bazar</h3></a><a class=\"u-grey_3-text u-spacer--bottom-thin u-smallest-font u-bullet-separated\" data-qa-id=\"sidebar_undefined_name\" href=\"/delhi/ear-nose-throat-ent-specialist/tuglakabad\"><h3 class=\"u-d-inline\">Ear-nose-throat (ent) Specialist in Tuglakabad</h3></a><a class=\"u-grey_3-text u-spacer--bottom-thin u-smallest-font u-bullet-separated\" data-qa-id=\"sidebar_undefined_name\" href=\"/delhi/ear-nose-throat-ent-specialist/kirti-nagar\"><h3 class=\"u-d-inline\">Ear-nose-throat (ent) Specialist in Kirti Nagar</h3></a><a class=\"u-grey_3-text u-spacer--bottom-thin u-smallest-font u-bullet-separated\" data-qa-id=\"sidebar_undefined_name\" href=\"/delhi/ear-nose-throat-ent-specialist/pragati-maidan\"><h3 class=\"u-d-inline\">Ear-nose-throat (ent) Specialist in Pragati Maidan</h3></a><a class=\"u-grey_3-text u-spacer--bottom-thin u-smallest-font u-bullet-separated\" data-qa-id=\"sidebar_undefined_name\" href=\"/delhi/ear-nose-throat-ent-specialist/raj-nagar-extension\"><h3 class=\"u-d-inline\">Ear-nose-throat (ent) Specialist in Raj Nagar Extension</h3></a></div><div class=\"u-spacer--medium-top\" data-qa-id=\"sidebar_undefined_block\"><h2 class=\"u-bold u-smallest-font u-spacer--bottom-less\">Related services in Delhi</h2><a class=\"u-grey_3-text u-spacer--bottom-thin u-smallest-font u-bullet-separated\" data-qa-id=\"sidebar_undefined_name\" href=\"/delhi/doctors-for-cysts\"><h3 class=\"u-d-inline\">Doctors For Cysts in Delhi</h3></a><a class=\"u-grey_3-text u-spacer--bottom-thin u-smallest-font u-bullet-separated\" data-qa-id=\"sidebar_undefined_name\" href=\"/delhi/doctors-for-giddiness\"><h3 class=\"u-d-inline\">Doctors For Giddiness in Delhi</h3></a><a class=\"u-grey_3-text u-spacer--bottom-thin u-smallest-font u-bullet-separated\" data-qa-id=\"sidebar_undefined_name\" href=\"/delhi/doctors-for-migraine-treatment\"><h3 class=\"u-d-inline\">Doctors For Migraine Treatment in Delhi</h3></a><a class=\"u-grey_3-text u-spacer--bottom-thin u-smallest-font u-bullet-separated\" data-qa-id=\"sidebar_undefined_name\" href=\"/delhi/doctors-for-rhinoplasty\"><h3 class=\"u-d-inline\">Doctors For Rhinoplasty in Delhi</h3></a><a class=\"u-grey_3-text u-spacer--bottom-thin u-smallest-font u-bullet-separated\" data-qa-id=\"sidebar_undefined_name\" href=\"/delhi/doctors-for-hoarseness\"><h3 class=\"u-d-inline\">Doctors For Hoarseness in Delhi</h3></a></div><div class=\"u-spacer--medium-top\" data-qa-id=\"sidebar_undefined_block\"><h2 class=\"u-bold u-smallest-font u-spacer--bottom-less\">Related treatments in Delhi</h2><a class=\"u-grey_3-text u-spacer--bottom-thin u-smallest-font u-bullet-separated\" data-qa-id=\"sidebar_undefined_name\" href=\"/delhi/treatment-for-diphtheria\"><h3 class=\"u-d-inline\">Treatment For Diphtheria in Delhi</h3></a><a class=\"u-grey_3-text u-spacer--bottom-thin u-smallest-font u-bullet-separated\" data-qa-id=\"sidebar_undefined_name\" href=\"/delhi/treatment-for-hoarseness\"><h3 class=\"u-d-inline\">Treatment For Hoarseness in Delhi</h3></a><a class=\"u-grey_3-text u-spacer--bottom-thin u-smallest-font u-bullet-separated\" data-qa-id=\"sidebar_undefined_name\" href=\"/delhi/treatment-for-sneezing\"><h3 class=\"u-d-inline\">Treatment For Sneezing in Delhi</h3></a><a class=\"u-grey_3-text u-spacer--bottom-thin u-smallest-font u-bullet-separated\" data-qa-id=\"sidebar_undefined_name\" href=\"/delhi/treatment-for-swallowing\"><h3 class=\"u-d-inline\">Treatment For Swallowing in Delhi</h3></a><a class=\"u-grey_3-text u-spacer--bottom-thin u-smallest-font u-bullet-separated\" data-qa-id=\"sidebar_undefined_name\" href=\"/delhi/treatment-for-meniere-s-disease\"><h3 class=\"u-d-inline\">Treatment For Meniere S Disease in Delhi</h3></a><a class=\"u-grey_3-text u-spacer--bottom-thin u-smallest-font u-bullet-separated\" data-qa-id=\"sidebar_undefined_name\" href=\"/delhi/treatment-for-cystic-fibrosis\"><h3 class=\"u-d-inline\">Treatment For Cystic Fibrosis in Delhi</h3></a><a class=\"u-grey_3-text u-spacer--bottom-thin u-smallest-font u-bullet-separated\" data-qa-id=\"sidebar_undefined_name\" href=\"/delhi/treatment-for-snoring\"><h3 class=\"u-d-inline\">Treatment For Snoring in Delhi</h3></a><a class=\"u-grey_3-text u-spacer--bottom-thin u-smallest-font u-bullet-separated\" data-qa-id=\"sidebar_undefined_name\" href=\"/delhi/treatment-for-ear-pain\"><h3 class=\"u-d-inline\">Treatment For Ear Pain in Delhi</h3></a><a class=\"u-grey_3-text u-spacer--bottom-thin u-smallest-font u-bullet-separated\" data-qa-id=\"sidebar_undefined_name\" href=\"/delhi/treatment-for-strep-throat\"><h3 class=\"u-d-inline\">Treatment For Strep Throat in Delhi</h3></a><a class=\"u-grey_3-text u-spacer--bottom-thin u-smallest-font u-bullet-separated\" data-qa-id=\"sidebar_undefined_name\" href=\"/delhi/treatment-for-tinnitus\"><h3 class=\"u-d-inline\">Treatment For Tinnitus in Delhi</h3></a></div></div>,\n",
       " <div class=\"u-grey_3-text uv2-spacer--xs-top\">You are seeing results from <!-- -->Delhi<!-- -->. See results near you</div>]"
      ]
     },
     "execution_count": 56,
     "metadata": {},
     "output_type": "execute_result"
    }
   ],
   "source": [
    "p = soup.find_all(\"div\",class_=\"u-grey_3-text\")\n",
    "p\n"
   ]
  },
  {
   "cell_type": "code",
   "execution_count": 59,
   "id": "e4325e83",
   "metadata": {
    "ExecuteTime": {
     "end_time": "2022-12-02T12:12:42.874370Z",
     "start_time": "2022-12-02T12:12:42.850372Z"
    }
   },
   "outputs": [
    {
     "name": "stdout",
     "output_type": "stream",
     "text": [
      "['Ear-Nose-Throat', 'Ear-Nose-Throat', 'Ear-Nose-Throat', 'Ear-Nose-Throat', 'Ear-Nose-Throat', 'Ear-Nose-Throat', 'Ear-Nose-Throat', 'Ear-Nose-Throat', 'Ear-Nose-Throat', 'Ear-Nose-Throat']\n"
     ]
    },
    {
     "data": {
      "text/plain": [
       "10"
      ]
     },
     "execution_count": 59,
     "metadata": {},
     "output_type": "execute_result"
    }
   ],
   "source": [
    "Specialist=re.findall(r\"(Ear-Nose-Throat)\",str(p))\n",
    "print(Specialist)\n",
    "\n",
    "len(Specialist)"
   ]
  },
  {
   "cell_type": "code",
   "execution_count": 60,
   "id": "dbfb4a3f",
   "metadata": {
    "ExecuteTime": {
     "end_time": "2022-12-02T12:12:54.906563Z",
     "start_time": "2022-12-02T12:12:54.890589Z"
    }
   },
   "outputs": [],
   "source": [
    "dictionary = {\n",
    "    \"Doctor_name\":Doctor_name,\n",
    "    \"Specialist\":Specialist,\n",
    "    \"Experience\":experience,\n",
    "    \"City_name\":City_name,\n",
    "    \"Area\":Area,\n",
    "    \"Hospital_name\":Hospital_name,\n",
    "    \"Consultation_fee\":consultation_fee,\n",
    "    \"Recommendation\":recommendation,\n",
    "\n",
    "}"
   ]
  },
  {
   "cell_type": "code",
   "execution_count": 61,
   "id": "fd5ef39d",
   "metadata": {
    "ExecuteTime": {
     "end_time": "2022-12-02T12:13:05.519506Z",
     "start_time": "2022-12-02T12:13:05.487501Z"
    }
   },
   "outputs": [
    {
     "data": {
      "text/html": [
       "<div>\n",
       "<style scoped>\n",
       "    .dataframe tbody tr th:only-of-type {\n",
       "        vertical-align: middle;\n",
       "    }\n",
       "\n",
       "    .dataframe tbody tr th {\n",
       "        vertical-align: top;\n",
       "    }\n",
       "\n",
       "    .dataframe thead th {\n",
       "        text-align: right;\n",
       "    }\n",
       "</style>\n",
       "<table border=\"1\" class=\"dataframe\">\n",
       "  <thead>\n",
       "    <tr style=\"text-align: right;\">\n",
       "      <th></th>\n",
       "      <th>Doctor_name</th>\n",
       "      <th>Specialist</th>\n",
       "      <th>Experience</th>\n",
       "      <th>City_name</th>\n",
       "      <th>Area</th>\n",
       "      <th>Hospital_name</th>\n",
       "      <th>Consultation_fee</th>\n",
       "      <th>Recommendation</th>\n",
       "    </tr>\n",
       "  </thead>\n",
       "  <tbody>\n",
       "    <tr>\n",
       "      <th>0</th>\n",
       "      <td>Dr. B K Agarwal</td>\n",
       "      <td>Ear-Nose-Throat</td>\n",
       "      <td>37</td>\n",
       "      <td>Delhi</td>\n",
       "      <td>Janakpuri,</td>\n",
       "      <td>ENT Care Centre</td>\n",
       "      <td>700</td>\n",
       "      <td>98%</td>\n",
       "    </tr>\n",
       "    <tr>\n",
       "      <th>1</th>\n",
       "      <td>Dr. Rajesh Kr. Bhardwaj</td>\n",
       "      <td>Ear-Nose-Throat</td>\n",
       "      <td>39</td>\n",
       "      <td>Delhi</td>\n",
       "      <td>Vasant Vihar,</td>\n",
       "      <td>Med First ENT Center</td>\n",
       "      <td>2500</td>\n",
       "      <td>97%</td>\n",
       "    </tr>\n",
       "    <tr>\n",
       "      <th>2</th>\n",
       "      <td>Dr. Jayant Jaswal</td>\n",
       "      <td>Ear-Nose-Throat</td>\n",
       "      <td>35</td>\n",
       "      <td>Delhi</td>\n",
       "      <td>Dwarka,</td>\n",
       "      <td>Sanjeevani Clinic</td>\n",
       "      <td>1000</td>\n",
       "      <td>89%</td>\n",
       "    </tr>\n",
       "    <tr>\n",
       "      <th>3</th>\n",
       "      <td>Dr. Sabir Husain Ansari</td>\n",
       "      <td>Ear-Nose-Throat</td>\n",
       "      <td>51</td>\n",
       "      <td>Delhi</td>\n",
       "      <td>Sarita Vihar,</td>\n",
       "      <td>Indraprastha Apollo Hospitals</td>\n",
       "      <td>1500</td>\n",
       "      <td>nan</td>\n",
       "    </tr>\n",
       "    <tr>\n",
       "      <th>4</th>\n",
       "      <td>Dr. Manish Arya</td>\n",
       "      <td>Ear-Nose-Throat</td>\n",
       "      <td>12</td>\n",
       "      <td>Delhi</td>\n",
       "      <td>Dwarka,</td>\n",
       "      <td>Dr Manish Arya's ENT Clinic</td>\n",
       "      <td>600</td>\n",
       "      <td>99%</td>\n",
       "    </tr>\n",
       "    <tr>\n",
       "      <th>5</th>\n",
       "      <td>Dr. Munish Taneja</td>\n",
       "      <td>Ear-Nose-Throat</td>\n",
       "      <td>25</td>\n",
       "      <td>Delhi</td>\n",
       "      <td>Dwarka,</td>\n",
       "      <td>Dr Taneja's Clinic</td>\n",
       "      <td>600</td>\n",
       "      <td>89%</td>\n",
       "    </tr>\n",
       "    <tr>\n",
       "      <th>6</th>\n",
       "      <td>Dr. (Major) Vipin Kakar Retd</td>\n",
       "      <td>Ear-Nose-Throat</td>\n",
       "      <td>33</td>\n",
       "      <td>Delhi</td>\n",
       "      <td>Pitampura,</td>\n",
       "      <td>ENT &amp; Swar Clinic</td>\n",
       "      <td>1200</td>\n",
       "      <td>94%</td>\n",
       "    </tr>\n",
       "    <tr>\n",
       "      <th>7</th>\n",
       "      <td>Dr. Neeru Chugh Dhingra</td>\n",
       "      <td>Ear-Nose-Throat</td>\n",
       "      <td>20</td>\n",
       "      <td>Delhi</td>\n",
       "      <td>Pitampura,</td>\n",
       "      <td>Dr. Dhingra's ENT Care Centre</td>\n",
       "      <td>700</td>\n",
       "      <td>96%</td>\n",
       "    </tr>\n",
       "    <tr>\n",
       "      <th>8</th>\n",
       "      <td>Dr. Rajeev Puri</td>\n",
       "      <td>Ear-Nose-Throat</td>\n",
       "      <td>44</td>\n",
       "      <td>Delhi</td>\n",
       "      <td>Sarita Vihar,</td>\n",
       "      <td>Indraprastha Apollo Hospitals</td>\n",
       "      <td>2000</td>\n",
       "      <td>88%</td>\n",
       "    </tr>\n",
       "    <tr>\n",
       "      <th>9</th>\n",
       "      <td>Dr. Anshul Gupta</td>\n",
       "      <td>Ear-Nose-Throat</td>\n",
       "      <td>17</td>\n",
       "      <td>Delhi</td>\n",
       "      <td>Pitampura,</td>\n",
       "      <td>Dr. Gupta ENT &amp; Dental Care Centre</td>\n",
       "      <td>800</td>\n",
       "      <td>83%</td>\n",
       "    </tr>\n",
       "  </tbody>\n",
       "</table>\n",
       "</div>"
      ],
      "text/plain": [
       "                    Doctor_name       Specialist Experience City_name  \\\n",
       "0               Dr. B K Agarwal  Ear-Nose-Throat         37     Delhi   \n",
       "1       Dr. Rajesh Kr. Bhardwaj  Ear-Nose-Throat         39     Delhi   \n",
       "2             Dr. Jayant Jaswal  Ear-Nose-Throat         35     Delhi   \n",
       "3       Dr. Sabir Husain Ansari  Ear-Nose-Throat         51     Delhi   \n",
       "4               Dr. Manish Arya  Ear-Nose-Throat         12     Delhi   \n",
       "5             Dr. Munish Taneja  Ear-Nose-Throat         25     Delhi   \n",
       "6  Dr. (Major) Vipin Kakar Retd  Ear-Nose-Throat         33     Delhi   \n",
       "7       Dr. Neeru Chugh Dhingra  Ear-Nose-Throat         20     Delhi   \n",
       "8               Dr. Rajeev Puri  Ear-Nose-Throat         44     Delhi   \n",
       "9              Dr. Anshul Gupta  Ear-Nose-Throat         17     Delhi   \n",
       "\n",
       "            Area                       Hospital_name Consultation_fee  \\\n",
       "0     Janakpuri,                     ENT Care Centre              700   \n",
       "1  Vasant Vihar,                Med First ENT Center             2500   \n",
       "2        Dwarka,                   Sanjeevani Clinic             1000   \n",
       "3  Sarita Vihar,       Indraprastha Apollo Hospitals             1500   \n",
       "4        Dwarka,         Dr Manish Arya's ENT Clinic              600   \n",
       "5        Dwarka,                  Dr Taneja's Clinic              600   \n",
       "6     Pitampura,                   ENT & Swar Clinic             1200   \n",
       "7     Pitampura,       Dr. Dhingra's ENT Care Centre              700   \n",
       "8  Sarita Vihar,       Indraprastha Apollo Hospitals             2000   \n",
       "9     Pitampura,  Dr. Gupta ENT & Dental Care Centre              800   \n",
       "\n",
       "  Recommendation  \n",
       "0           98%   \n",
       "1           97%   \n",
       "2           89%   \n",
       "3            nan  \n",
       "4           99%   \n",
       "5           89%   \n",
       "6           94%   \n",
       "7           96%   \n",
       "8           88%   \n",
       "9           83%   "
      ]
     },
     "execution_count": 61,
     "metadata": {},
     "output_type": "execute_result"
    }
   ],
   "source": [
    "ENT_df1 = pd.DataFrame(dictionary)\n",
    "ENT_df1"
   ]
  },
  {
   "cell_type": "code",
   "execution_count": 62,
   "id": "abc355f4",
   "metadata": {
    "ExecuteTime": {
     "end_time": "2022-12-02T12:17:40.349668Z",
     "start_time": "2022-12-02T12:17:39.169016Z"
    }
   },
   "outputs": [
    {
     "name": "stdout",
     "output_type": "stream",
     "text": [
      "['Dr. Neeraj Pasricha', 'Dr. Chhavi Bansal', 'Dr. Sneh Khera', 'Dr. Ranjana Gupta', 'Dr. Suchindra Sachdeva', 'Dr. Shweta Bhandari', 'Dr. Reena Agarwal', 'Dr. Ajay Kumar Grover', 'Dr. Pratima Grover', 'Dr. Anika Gupta']\n",
      "10\n",
      "----------------------------------------------------------------------------------------------------\n",
      "['Delhi', 'Delhi', 'Delhi', 'Delhi', 'Delhi', 'Delhi', 'Delhi', 'Delhi', 'Delhi', 'Delhi']\n",
      "10\n",
      "----------------------------------------------------------------------------------------------------\n",
      "['Paschim Vihar,', 'Pitampura,', 'Lajpat Nagar 4,', 'Dwarka,', 'Sukhdev Vihar,', 'Krishna Nagar,', 'Kamla Nagar,', 'Old Rajendra Nagar,', 'Mayur Vihar Ph-I,', 'Rohini Sector 11,']\n",
      "10\n",
      "----------------------------------------------------------------------------------------------------\n",
      "['1000', '500', '330', '500', '1800', '1000', '450', '1500', '500', '500']\n",
      "10\n",
      "----------------------------------------------------------------------------------------------------\n",
      "['93% ', '98% ', '92% ', '94% ', '99% ', '96% ', '82% ', '100% ', '100% ', '100% ']\n",
      "10\n",
      "----------------------------------------------------------------------------------------------------\n",
      "['40', '11', '37', '26', '36', '14', '15', '30', '37', '12']\n",
      "10\n",
      "----------------------------------------------------------------------------------------------------\n"
     ]
    }
   ],
   "source": [
    "page = requests.get(\"\"\"https://www.practo.com/search/doctors?results_type=doctor&q=%5B%7B%22word%22%3A%22Homoeopath%22%2C%22autocompleted%22%3Atrue%2C%22category%22%3A%22subspeciality%22%7D%5D&city=Delhi\"\"\")\n",
    "soup = BeautifulSoup(page.text)\n",
    "Doctor_name=[]\n",
    "for i in soup.find_all(\"h2\",class_=\"doctor-name\"):\n",
    "    Doctor_name.append(i.text)\n",
    "print(Doctor_name)\n",
    "print(len(Doctor_name))\n",
    "print(\"--\"*50)\n",
    "\n",
    "City_name=[]\n",
    "for i in soup.find_all(\"span\",class_=\"u-t-capitalize\"):\n",
    "    City_name.append(i.text)\n",
    "print(City_name)\n",
    "print(len(City_name))\n",
    "print(\"--\"*50)\n",
    "\n",
    "Area=[]\n",
    "for i in soup.find_all(\"span\",attrs={\"data-qa-id\":\"practice_locality\"}):\n",
    "    Area.append(i.text)\n",
    "print(Area)\n",
    "print(len(Area))\n",
    "print(\"--\"*50)\n",
    "\n",
    "q = soup.find_all(\"span\",attrs={\"data-qa-id\":\"consultation_fee\"})\n",
    "\n",
    "consultation_fee=re.findall(r\"\\d+\\d+\\w+\",str(q))\n",
    "print(consultation_fee)\n",
    "print(len(consultation_fee))\n",
    "print(\"--\"*50)\n",
    "\n",
    "recommendation=[]\n",
    "for i in soup.find_all(\"span\",attrs={\"data-qa-id\":\"doctor_recommendation\"}):\n",
    "        recommendation.append(i.text)\n",
    "#recommendation.insert(2,\"nan\")\n",
    "print(recommendation)\n",
    "print(len(recommendation))\n",
    "print(\"--\"*50)\n",
    "\n",
    "s=soup.find_all('div',{\"data-qa-id\":\"doctor_experience\"})\n",
    "experience = re.findall(r\"(\\d+)<\",str(s))\n",
    "print(experience)\n",
    "print(len(experience))\n",
    "print(\"--\"*50)"
   ]
  },
  {
   "cell_type": "code",
   "execution_count": 64,
   "id": "682378ce",
   "metadata": {
    "ExecuteTime": {
     "end_time": "2022-12-02T12:18:18.394330Z",
     "start_time": "2022-12-02T12:18:18.364473Z"
    }
   },
   "outputs": [
    {
     "name": "stdout",
     "output_type": "stream",
     "text": [
      "['Pasricha Homeo Care Clinics', 'Homeosure - Home of Homeopathy and Wellness', \"Dr Khera's Homoeopathic Clinic\", 'Sanjeevni Homeo Clinic', \"Dr. Suchindra Sachdeva's Clinic\", 'Bhandari Dental & Homeopathic Clinic', \"Dr Batra's Positive Health Clinic Pvt Ltd\", \"Dr. Bakshi's Healthcare\", 'Holistic Homoeopathic Care', \"Dr Anika's Homoeo Health Care\"]\n"
     ]
    },
    {
     "data": {
      "text/plain": [
       "10"
      ]
     },
     "execution_count": 64,
     "metadata": {},
     "output_type": "execute_result"
    }
   ],
   "source": [
    "Hospital_name=[]\n",
    "for i in soup.find_all(\"span\",class_=\"u-c-pointer u-t-hover-underline\"):\n",
    "    Hospital_name.append(i.text)\n",
    "Hospital_name.remove('\\xa0+ 2 more')\n",
    "Hospital_name.remove('\\xa0+ 1 more')\n",
    "Hospital_name.remove('\\xa0+ 1 more')\n",
    "#Hospital_name.remove('\\xa0+ 1 more')\n",
    "#Hospital_name.remove('\\xa0+ 1 more')\n",
    "\n",
    "print(Hospital_name)\n",
    "len(Hospital_name)"
   ]
  },
  {
   "cell_type": "code",
   "execution_count": 66,
   "id": "a3020f90",
   "metadata": {
    "ExecuteTime": {
     "end_time": "2022-12-02T12:20:05.357863Z",
     "start_time": "2022-12-02T12:20:05.328019Z"
    }
   },
   "outputs": [
    {
     "name": "stdout",
     "output_type": "stream",
     "text": [
      "['Homoeopath', 'Homoeopath', 'Homoeopath', 'Homoeopath', 'Homoeopath', 'Homoeopath', 'Homoeopath', 'Homoeopath', 'Homoeopath', 'Homoeopath']\n"
     ]
    },
    {
     "data": {
      "text/plain": [
       "10"
      ]
     },
     "execution_count": 66,
     "metadata": {},
     "output_type": "execute_result"
    }
   ],
   "source": [
    "p = soup.find_all(\"div\",class_=\"u-grey_3-text\")\n",
    "p\n",
    "Specialist = re.findall(r\"(Homoeopath)<\",str(p))\n",
    "Specialist.remove('Homoeopath')\n",
    "print(Specialist)\n",
    "len(Specialist)"
   ]
  },
  {
   "cell_type": "code",
   "execution_count": 67,
   "id": "64a47850",
   "metadata": {
    "ExecuteTime": {
     "end_time": "2022-12-02T12:20:23.933250Z",
     "start_time": "2022-12-02T12:20:23.921222Z"
    }
   },
   "outputs": [],
   "source": [
    "dictionary = {\n",
    "    \"Doctor_name\":Doctor_name,\n",
    "    \"Specialist\":Specialist,\n",
    "    \"Experience\":experience,\n",
    "    \"City_name\":City_name,\n",
    "    \"Area\":Area,\n",
    "    \"Hospital_name\":Hospital_name,\n",
    "    \"Consultation_fee\":consultation_fee,\n",
    "    \"Recommendation\":recommendation,\n",
    "\n",
    "}"
   ]
  },
  {
   "cell_type": "code",
   "execution_count": 68,
   "id": "51d4bb9d",
   "metadata": {
    "ExecuteTime": {
     "end_time": "2022-12-02T12:20:32.932945Z",
     "start_time": "2022-12-02T12:20:32.897372Z"
    }
   },
   "outputs": [
    {
     "data": {
      "text/html": [
       "<div>\n",
       "<style scoped>\n",
       "    .dataframe tbody tr th:only-of-type {\n",
       "        vertical-align: middle;\n",
       "    }\n",
       "\n",
       "    .dataframe tbody tr th {\n",
       "        vertical-align: top;\n",
       "    }\n",
       "\n",
       "    .dataframe thead th {\n",
       "        text-align: right;\n",
       "    }\n",
       "</style>\n",
       "<table border=\"1\" class=\"dataframe\">\n",
       "  <thead>\n",
       "    <tr style=\"text-align: right;\">\n",
       "      <th></th>\n",
       "      <th>Doctor_name</th>\n",
       "      <th>Specialist</th>\n",
       "      <th>Experience</th>\n",
       "      <th>City_name</th>\n",
       "      <th>Area</th>\n",
       "      <th>Hospital_name</th>\n",
       "      <th>Consultation_fee</th>\n",
       "      <th>Recommendation</th>\n",
       "    </tr>\n",
       "  </thead>\n",
       "  <tbody>\n",
       "    <tr>\n",
       "      <th>0</th>\n",
       "      <td>Dr. Neeraj Pasricha</td>\n",
       "      <td>Homoeopath</td>\n",
       "      <td>40</td>\n",
       "      <td>Delhi</td>\n",
       "      <td>Paschim Vihar,</td>\n",
       "      <td>Pasricha Homeo Care Clinics</td>\n",
       "      <td>1000</td>\n",
       "      <td>93%</td>\n",
       "    </tr>\n",
       "    <tr>\n",
       "      <th>1</th>\n",
       "      <td>Dr. Chhavi Bansal</td>\n",
       "      <td>Homoeopath</td>\n",
       "      <td>11</td>\n",
       "      <td>Delhi</td>\n",
       "      <td>Pitampura,</td>\n",
       "      <td>Homeosure - Home of Homeopathy and Wellness</td>\n",
       "      <td>500</td>\n",
       "      <td>98%</td>\n",
       "    </tr>\n",
       "    <tr>\n",
       "      <th>2</th>\n",
       "      <td>Dr. Sneh Khera</td>\n",
       "      <td>Homoeopath</td>\n",
       "      <td>37</td>\n",
       "      <td>Delhi</td>\n",
       "      <td>Lajpat Nagar 4,</td>\n",
       "      <td>Dr Khera's Homoeopathic Clinic</td>\n",
       "      <td>330</td>\n",
       "      <td>92%</td>\n",
       "    </tr>\n",
       "    <tr>\n",
       "      <th>3</th>\n",
       "      <td>Dr. Ranjana Gupta</td>\n",
       "      <td>Homoeopath</td>\n",
       "      <td>26</td>\n",
       "      <td>Delhi</td>\n",
       "      <td>Dwarka,</td>\n",
       "      <td>Sanjeevni Homeo Clinic</td>\n",
       "      <td>500</td>\n",
       "      <td>94%</td>\n",
       "    </tr>\n",
       "    <tr>\n",
       "      <th>4</th>\n",
       "      <td>Dr. Suchindra Sachdeva</td>\n",
       "      <td>Homoeopath</td>\n",
       "      <td>36</td>\n",
       "      <td>Delhi</td>\n",
       "      <td>Sukhdev Vihar,</td>\n",
       "      <td>Dr. Suchindra Sachdeva's Clinic</td>\n",
       "      <td>1800</td>\n",
       "      <td>99%</td>\n",
       "    </tr>\n",
       "    <tr>\n",
       "      <th>5</th>\n",
       "      <td>Dr. Shweta Bhandari</td>\n",
       "      <td>Homoeopath</td>\n",
       "      <td>14</td>\n",
       "      <td>Delhi</td>\n",
       "      <td>Krishna Nagar,</td>\n",
       "      <td>Bhandari Dental &amp; Homeopathic Clinic</td>\n",
       "      <td>1000</td>\n",
       "      <td>96%</td>\n",
       "    </tr>\n",
       "    <tr>\n",
       "      <th>6</th>\n",
       "      <td>Dr. Reena Agarwal</td>\n",
       "      <td>Homoeopath</td>\n",
       "      <td>15</td>\n",
       "      <td>Delhi</td>\n",
       "      <td>Kamla Nagar,</td>\n",
       "      <td>Dr Batra's Positive Health Clinic Pvt Ltd</td>\n",
       "      <td>450</td>\n",
       "      <td>82%</td>\n",
       "    </tr>\n",
       "    <tr>\n",
       "      <th>7</th>\n",
       "      <td>Dr. Ajay Kumar Grover</td>\n",
       "      <td>Homoeopath</td>\n",
       "      <td>30</td>\n",
       "      <td>Delhi</td>\n",
       "      <td>Old Rajendra Nagar,</td>\n",
       "      <td>Dr. Bakshi's Healthcare</td>\n",
       "      <td>1500</td>\n",
       "      <td>100%</td>\n",
       "    </tr>\n",
       "    <tr>\n",
       "      <th>8</th>\n",
       "      <td>Dr. Pratima Grover</td>\n",
       "      <td>Homoeopath</td>\n",
       "      <td>37</td>\n",
       "      <td>Delhi</td>\n",
       "      <td>Mayur Vihar Ph-I,</td>\n",
       "      <td>Holistic Homoeopathic Care</td>\n",
       "      <td>500</td>\n",
       "      <td>100%</td>\n",
       "    </tr>\n",
       "    <tr>\n",
       "      <th>9</th>\n",
       "      <td>Dr. Anika Gupta</td>\n",
       "      <td>Homoeopath</td>\n",
       "      <td>12</td>\n",
       "      <td>Delhi</td>\n",
       "      <td>Rohini Sector 11,</td>\n",
       "      <td>Dr Anika's Homoeo Health Care</td>\n",
       "      <td>500</td>\n",
       "      <td>100%</td>\n",
       "    </tr>\n",
       "  </tbody>\n",
       "</table>\n",
       "</div>"
      ],
      "text/plain": [
       "              Doctor_name  Specialist Experience City_name  \\\n",
       "0     Dr. Neeraj Pasricha  Homoeopath         40     Delhi   \n",
       "1       Dr. Chhavi Bansal  Homoeopath         11     Delhi   \n",
       "2          Dr. Sneh Khera  Homoeopath         37     Delhi   \n",
       "3       Dr. Ranjana Gupta  Homoeopath         26     Delhi   \n",
       "4  Dr. Suchindra Sachdeva  Homoeopath         36     Delhi   \n",
       "5     Dr. Shweta Bhandari  Homoeopath         14     Delhi   \n",
       "6       Dr. Reena Agarwal  Homoeopath         15     Delhi   \n",
       "7   Dr. Ajay Kumar Grover  Homoeopath         30     Delhi   \n",
       "8      Dr. Pratima Grover  Homoeopath         37     Delhi   \n",
       "9         Dr. Anika Gupta  Homoeopath         12     Delhi   \n",
       "\n",
       "                  Area                                Hospital_name  \\\n",
       "0       Paschim Vihar,                  Pasricha Homeo Care Clinics   \n",
       "1           Pitampura,  Homeosure - Home of Homeopathy and Wellness   \n",
       "2      Lajpat Nagar 4,               Dr Khera's Homoeopathic Clinic   \n",
       "3              Dwarka,                       Sanjeevni Homeo Clinic   \n",
       "4       Sukhdev Vihar,              Dr. Suchindra Sachdeva's Clinic   \n",
       "5       Krishna Nagar,         Bhandari Dental & Homeopathic Clinic   \n",
       "6         Kamla Nagar,    Dr Batra's Positive Health Clinic Pvt Ltd   \n",
       "7  Old Rajendra Nagar,                      Dr. Bakshi's Healthcare   \n",
       "8    Mayur Vihar Ph-I,                   Holistic Homoeopathic Care   \n",
       "9    Rohini Sector 11,                Dr Anika's Homoeo Health Care   \n",
       "\n",
       "  Consultation_fee Recommendation  \n",
       "0             1000           93%   \n",
       "1              500           98%   \n",
       "2              330           92%   \n",
       "3              500           94%   \n",
       "4             1800           99%   \n",
       "5             1000           96%   \n",
       "6              450           82%   \n",
       "7             1500          100%   \n",
       "8              500          100%   \n",
       "9              500          100%   "
      ]
     },
     "execution_count": 68,
     "metadata": {},
     "output_type": "execute_result"
    }
   ],
   "source": [
    "Homoeopath_df1 = pd.DataFrame(dictionary)\n",
    "Homoeopath_df1"
   ]
  },
  {
   "cell_type": "code",
   "execution_count": 74,
   "id": "40915464",
   "metadata": {
    "ExecuteTime": {
     "end_time": "2022-12-02T12:26:01.791946Z",
     "start_time": "2022-12-02T12:26:00.393492Z"
    }
   },
   "outputs": [
    {
     "name": "stdout",
     "output_type": "stream",
     "text": [
      "['Dr. Jyoti Arora Monga', 'Dr. Mahesh Shah', 'Dr. Alka Tyagi', 'Dr. Sudha Asokan', 'Dr. Vijay Dagar', 'Dr. Vijay Abbot', 'Dr. Anjana Kalia', 'Dr. S K Singh', 'Dr. Shabnam Chauhan', 'Dr. Preeti Jiyal']\n",
      "10\n",
      "----------------------------------------------------------------------------------------------------\n",
      "['Delhi', 'Delhi', 'Delhi', 'Delhi', 'Delhi', 'Delhi', 'Delhi', 'Delhi', 'Delhi', 'Delhi']\n",
      "10\n",
      "----------------------------------------------------------------------------------------------------\n",
      "['Lajpat Nagar,', 'Patel Nagar East,', 'Tilak Nagar,', 'Safdarjung Enclave,', 'Uttam Nagar,', 'Patel Nagar East,', 'Dwarka,', 'Rohini,', 'Chattarpur,', 'Sarita Vihar,']\n",
      "10\n",
      "----------------------------------------------------------------------------------------------------\n",
      "['800', '50', '600', '1200', '500', '50', '1000', '1500', '250', '300']\n",
      "10\n",
      "----------------------------------------------------------------------------------------------------\n",
      "['87% ', '93% ', '100% ', '96% ', '92% ', '82% ', '99% ', '89% ', '100% ', '93% ']\n",
      "10\n",
      "----------------------------------------------------------------------------------------------------\n",
      "['22', '53', '37', '43', '12', '48', '21', '36', '13', '7']\n",
      "10\n",
      "----------------------------------------------------------------------------------------------------\n"
     ]
    }
   ],
   "source": [
    "page = requests.get(\"\"\"https://www.practo.com/search/doctors?results_type=doctor&q=%5B%7B%22word%22%3A%22Ayurveda%22%2C%22autocompleted%22%3Atrue%2C%22category%22%3A%22subspeciality%22%7D%5D&city=Delhi\"\"\")\n",
    "soup = BeautifulSoup(page.text)\n",
    "Doctor_name=[]\n",
    "for i in soup.find_all(\"h2\",class_=\"doctor-name\"):\n",
    "    Doctor_name.append(i.text)\n",
    "print(Doctor_name)\n",
    "print(len(Doctor_name))\n",
    "print(\"--\"*50)\n",
    "\n",
    "City_name=[]\n",
    "for i in soup.find_all(\"span\",class_=\"u-t-capitalize\"):\n",
    "    City_name.append(i.text)\n",
    "print(City_name)\n",
    "print(len(City_name))\n",
    "print(\"--\"*50)\n",
    "\n",
    "Area=[]\n",
    "for i in soup.find_all(\"span\",attrs={\"data-qa-id\":\"practice_locality\"}):\n",
    "    Area.append(i.text)\n",
    "print(Area)\n",
    "print(len(Area))\n",
    "print(\"--\"*50)\n",
    "\n",
    "q = soup.find_all(\"span\",attrs={\"data-qa-id\":\"consultation_fee\"})\n",
    "q\n",
    "consultation_fee=re.findall(r\"\\d+\\w+\",str(q))\n",
    "print(consultation_fee)\n",
    "print(len(consultation_fee))\n",
    "print(\"--\"*50)\n",
    "\n",
    "recommendation=[]\n",
    "for i in soup.find_all(\"span\",attrs={\"data-qa-id\":\"doctor_recommendation\"}):\n",
    "        recommendation.append(i.text)\n",
    "#recommendation.insert(2,\"nan\")\n",
    "print(recommendation)\n",
    "print(len(recommendation))\n",
    "print(\"--\"*50)\n",
    "\n",
    "s=soup.find_all('div',{\"data-qa-id\":\"doctor_experience\"})\n",
    "experience = re.findall(r\"(\\d+)<\",str(s))\n",
    "print(experience)\n",
    "print(len(experience))\n",
    "print(\"--\"*50)"
   ]
  },
  {
   "cell_type": "code",
   "execution_count": 76,
   "id": "7cb4c4a8",
   "metadata": {
    "ExecuteTime": {
     "end_time": "2022-12-02T12:27:19.219189Z",
     "start_time": "2022-12-02T12:27:19.190007Z"
    }
   },
   "outputs": [
    {
     "name": "stdout",
     "output_type": "stream",
     "text": [
      "['Dr. Monga Clinic', 'Hakim Hari Kishan Lal Dawakhana', 'Tyagi Nursing Home', \"Dr. Sudha's Ayurveda Kendra\", 'Agnivesh Clinic', 'Hakim Hari Kishan Lal Dawakhana', \"Dr Anjana Kalia's Diet clinic\", 'Sushruta Anorectal Institute', 'Ayubless Ayurveda Clinic And Panchakarma', 'Maharishi Ayurveda Wellness Clinic']\n"
     ]
    },
    {
     "data": {
      "text/plain": [
       "10"
      ]
     },
     "execution_count": 76,
     "metadata": {},
     "output_type": "execute_result"
    }
   ],
   "source": [
    "Hospital_name=[]\n",
    "for i in soup.find_all(\"span\",class_=\"u-c-pointer u-t-hover-underline\"):\n",
    "    Hospital_name.append(i.text)\n",
    "Hospital_name.remove('\\xa0+ 3 more')\n",
    "Hospital_name.remove('\\xa0+ 1 more')\n",
    "Hospital_name.remove('\\xa0+ 1 more')\n",
    "Hospital_name.remove('\\xa0+ 1 more')\n",
    "Hospital_name.remove('\\xa0+ 1 more')\n",
    "Hospital_name.remove('\\xa0+ 1 more')\n",
    "print(Hospital_name)\n",
    "len(Hospital_name)"
   ]
  },
  {
   "cell_type": "code",
   "execution_count": 78,
   "id": "60f904dc",
   "metadata": {
    "ExecuteTime": {
     "end_time": "2022-12-02T12:27:48.407570Z",
     "start_time": "2022-12-02T12:27:48.377458Z"
    }
   },
   "outputs": [
    {
     "data": {
      "text/plain": [
       "10"
      ]
     },
     "execution_count": 78,
     "metadata": {},
     "output_type": "execute_result"
    }
   ],
   "source": [
    "p = soup.find_all(\"div\",class_=\"u-grey_3-text\")\n",
    "p\n",
    "Specialist = re.findall(r\"(Ayurveda)<\",str(p))\n",
    "Specialist\n",
    "Specialist.remove('Ayurveda')\n",
    "len(Specialist)"
   ]
  },
  {
   "cell_type": "code",
   "execution_count": 79,
   "id": "0a63b26c",
   "metadata": {
    "ExecuteTime": {
     "end_time": "2022-12-02T12:28:01.012454Z",
     "start_time": "2022-12-02T12:28:00.998593Z"
    }
   },
   "outputs": [],
   "source": [
    "dictionary = {\n",
    "    \"Doctor_name\":Doctor_name,\n",
    "    \"Specialist\":Specialist,\n",
    "    \"Experience\":experience,\n",
    "    \"City_name\":City_name,\n",
    "    \"Area\":Area,\n",
    "    \"Hospital_name\":Hospital_name,\n",
    "    \"Consultation_fee\":consultation_fee,\n",
    "    \"Recommendation\":recommendation,\n",
    "\n",
    "}"
   ]
  },
  {
   "cell_type": "code",
   "execution_count": 80,
   "id": "087ec8e4",
   "metadata": {
    "ExecuteTime": {
     "end_time": "2022-12-02T12:28:37.052744Z",
     "start_time": "2022-12-02T12:28:37.021563Z"
    }
   },
   "outputs": [
    {
     "data": {
      "text/html": [
       "<div>\n",
       "<style scoped>\n",
       "    .dataframe tbody tr th:only-of-type {\n",
       "        vertical-align: middle;\n",
       "    }\n",
       "\n",
       "    .dataframe tbody tr th {\n",
       "        vertical-align: top;\n",
       "    }\n",
       "\n",
       "    .dataframe thead th {\n",
       "        text-align: right;\n",
       "    }\n",
       "</style>\n",
       "<table border=\"1\" class=\"dataframe\">\n",
       "  <thead>\n",
       "    <tr style=\"text-align: right;\">\n",
       "      <th></th>\n",
       "      <th>Doctor_name</th>\n",
       "      <th>Specialist</th>\n",
       "      <th>Experience</th>\n",
       "      <th>City_name</th>\n",
       "      <th>Area</th>\n",
       "      <th>Hospital_name</th>\n",
       "      <th>Consultation_fee</th>\n",
       "      <th>Recommendation</th>\n",
       "    </tr>\n",
       "  </thead>\n",
       "  <tbody>\n",
       "    <tr>\n",
       "      <th>0</th>\n",
       "      <td>Dr. Jyoti Arora Monga</td>\n",
       "      <td>Ayurveda</td>\n",
       "      <td>22</td>\n",
       "      <td>Delhi</td>\n",
       "      <td>Lajpat Nagar,</td>\n",
       "      <td>Dr. Monga Clinic</td>\n",
       "      <td>800</td>\n",
       "      <td>87%</td>\n",
       "    </tr>\n",
       "    <tr>\n",
       "      <th>1</th>\n",
       "      <td>Dr. Mahesh Shah</td>\n",
       "      <td>Ayurveda</td>\n",
       "      <td>53</td>\n",
       "      <td>Delhi</td>\n",
       "      <td>Patel Nagar East,</td>\n",
       "      <td>Hakim Hari Kishan Lal Dawakhana</td>\n",
       "      <td>50</td>\n",
       "      <td>93%</td>\n",
       "    </tr>\n",
       "    <tr>\n",
       "      <th>2</th>\n",
       "      <td>Dr. Alka Tyagi</td>\n",
       "      <td>Ayurveda</td>\n",
       "      <td>37</td>\n",
       "      <td>Delhi</td>\n",
       "      <td>Tilak Nagar,</td>\n",
       "      <td>Tyagi Nursing Home</td>\n",
       "      <td>600</td>\n",
       "      <td>100%</td>\n",
       "    </tr>\n",
       "    <tr>\n",
       "      <th>3</th>\n",
       "      <td>Dr. Sudha Asokan</td>\n",
       "      <td>Ayurveda</td>\n",
       "      <td>43</td>\n",
       "      <td>Delhi</td>\n",
       "      <td>Safdarjung Enclave,</td>\n",
       "      <td>Dr. Sudha's Ayurveda Kendra</td>\n",
       "      <td>1200</td>\n",
       "      <td>96%</td>\n",
       "    </tr>\n",
       "    <tr>\n",
       "      <th>4</th>\n",
       "      <td>Dr. Vijay Dagar</td>\n",
       "      <td>Ayurveda</td>\n",
       "      <td>12</td>\n",
       "      <td>Delhi</td>\n",
       "      <td>Uttam Nagar,</td>\n",
       "      <td>Agnivesh Clinic</td>\n",
       "      <td>500</td>\n",
       "      <td>92%</td>\n",
       "    </tr>\n",
       "    <tr>\n",
       "      <th>5</th>\n",
       "      <td>Dr. Vijay Abbot</td>\n",
       "      <td>Ayurveda</td>\n",
       "      <td>48</td>\n",
       "      <td>Delhi</td>\n",
       "      <td>Patel Nagar East,</td>\n",
       "      <td>Hakim Hari Kishan Lal Dawakhana</td>\n",
       "      <td>50</td>\n",
       "      <td>82%</td>\n",
       "    </tr>\n",
       "    <tr>\n",
       "      <th>6</th>\n",
       "      <td>Dr. Anjana Kalia</td>\n",
       "      <td>Ayurveda</td>\n",
       "      <td>21</td>\n",
       "      <td>Delhi</td>\n",
       "      <td>Dwarka,</td>\n",
       "      <td>Dr Anjana Kalia's Diet clinic</td>\n",
       "      <td>1000</td>\n",
       "      <td>99%</td>\n",
       "    </tr>\n",
       "    <tr>\n",
       "      <th>7</th>\n",
       "      <td>Dr. S K Singh</td>\n",
       "      <td>Ayurveda</td>\n",
       "      <td>36</td>\n",
       "      <td>Delhi</td>\n",
       "      <td>Rohini,</td>\n",
       "      <td>Sushruta Anorectal Institute</td>\n",
       "      <td>1500</td>\n",
       "      <td>89%</td>\n",
       "    </tr>\n",
       "    <tr>\n",
       "      <th>8</th>\n",
       "      <td>Dr. Shabnam Chauhan</td>\n",
       "      <td>Ayurveda</td>\n",
       "      <td>13</td>\n",
       "      <td>Delhi</td>\n",
       "      <td>Chattarpur,</td>\n",
       "      <td>Ayubless Ayurveda Clinic And Panchakarma</td>\n",
       "      <td>250</td>\n",
       "      <td>100%</td>\n",
       "    </tr>\n",
       "    <tr>\n",
       "      <th>9</th>\n",
       "      <td>Dr. Preeti Jiyal</td>\n",
       "      <td>Ayurveda</td>\n",
       "      <td>7</td>\n",
       "      <td>Delhi</td>\n",
       "      <td>Sarita Vihar,</td>\n",
       "      <td>Maharishi Ayurveda Wellness Clinic</td>\n",
       "      <td>300</td>\n",
       "      <td>93%</td>\n",
       "    </tr>\n",
       "  </tbody>\n",
       "</table>\n",
       "</div>"
      ],
      "text/plain": [
       "             Doctor_name Specialist Experience City_name                 Area  \\\n",
       "0  Dr. Jyoti Arora Monga   Ayurveda         22     Delhi        Lajpat Nagar,   \n",
       "1        Dr. Mahesh Shah   Ayurveda         53     Delhi    Patel Nagar East,   \n",
       "2         Dr. Alka Tyagi   Ayurveda         37     Delhi         Tilak Nagar,   \n",
       "3       Dr. Sudha Asokan   Ayurveda         43     Delhi  Safdarjung Enclave,   \n",
       "4        Dr. Vijay Dagar   Ayurveda         12     Delhi         Uttam Nagar,   \n",
       "5        Dr. Vijay Abbot   Ayurveda         48     Delhi    Patel Nagar East,   \n",
       "6       Dr. Anjana Kalia   Ayurveda         21     Delhi              Dwarka,   \n",
       "7          Dr. S K Singh   Ayurveda         36     Delhi              Rohini,   \n",
       "8    Dr. Shabnam Chauhan   Ayurveda         13     Delhi          Chattarpur,   \n",
       "9       Dr. Preeti Jiyal   Ayurveda          7     Delhi        Sarita Vihar,   \n",
       "\n",
       "                              Hospital_name Consultation_fee Recommendation  \n",
       "0                          Dr. Monga Clinic              800           87%   \n",
       "1           Hakim Hari Kishan Lal Dawakhana               50           93%   \n",
       "2                        Tyagi Nursing Home              600          100%   \n",
       "3               Dr. Sudha's Ayurveda Kendra             1200           96%   \n",
       "4                           Agnivesh Clinic              500           92%   \n",
       "5           Hakim Hari Kishan Lal Dawakhana               50           82%   \n",
       "6             Dr Anjana Kalia's Diet clinic             1000           99%   \n",
       "7              Sushruta Anorectal Institute             1500           89%   \n",
       "8  Ayubless Ayurveda Clinic And Panchakarma              250          100%   \n",
       "9        Maharishi Ayurveda Wellness Clinic              300           93%   "
      ]
     },
     "execution_count": 80,
     "metadata": {},
     "output_type": "execute_result"
    }
   ],
   "source": [
    "Ayurveda_df1 = pd.DataFrame(dictionary)\n",
    "Ayurveda_df1"
   ]
  },
  {
   "cell_type": "code",
   "execution_count": 81,
   "id": "51a86244",
   "metadata": {
    "ExecuteTime": {
     "end_time": "2022-12-02T12:29:25.327261Z",
     "start_time": "2022-12-02T12:29:25.289336Z"
    }
   },
   "outputs": [
    {
     "data": {
      "text/html": [
       "<div>\n",
       "<style scoped>\n",
       "    .dataframe tbody tr th:only-of-type {\n",
       "        vertical-align: middle;\n",
       "    }\n",
       "\n",
       "    .dataframe tbody tr th {\n",
       "        vertical-align: top;\n",
       "    }\n",
       "\n",
       "    .dataframe thead th {\n",
       "        text-align: right;\n",
       "    }\n",
       "</style>\n",
       "<table border=\"1\" class=\"dataframe\">\n",
       "  <thead>\n",
       "    <tr style=\"text-align: right;\">\n",
       "      <th></th>\n",
       "      <th>Doctor_name</th>\n",
       "      <th>Specialist</th>\n",
       "      <th>Experience</th>\n",
       "      <th>City_name</th>\n",
       "      <th>Area</th>\n",
       "      <th>Hospital_name</th>\n",
       "      <th>Consultation_fee</th>\n",
       "      <th>Recommendation</th>\n",
       "    </tr>\n",
       "  </thead>\n",
       "  <tbody>\n",
       "    <tr>\n",
       "      <th>0</th>\n",
       "      <td>Dr. Madhu Ahuja</td>\n",
       "      <td>Gynecologist/Obstetrician</td>\n",
       "      <td>38</td>\n",
       "      <td>Delhi</td>\n",
       "      <td>Patparganj,</td>\n",
       "      <td>Cloudnine Hospitals</td>\n",
       "      <td>1100</td>\n",
       "      <td>93%</td>\n",
       "    </tr>\n",
       "    <tr>\n",
       "      <th>1</th>\n",
       "      <td>Dr. Keerti Khetan</td>\n",
       "      <td>Gynecologist/Obstetrician</td>\n",
       "      <td>29</td>\n",
       "      <td>Delhi</td>\n",
       "      <td>Pusa Road,</td>\n",
       "      <td>BLK-Max Super Speciality Hospital</td>\n",
       "      <td>1500</td>\n",
       "      <td>92%</td>\n",
       "    </tr>\n",
       "    <tr>\n",
       "      <th>2</th>\n",
       "      <td>Dr. Neha Khandelwal</td>\n",
       "      <td>Gynecologist/Obstetrician</td>\n",
       "      <td>17</td>\n",
       "      <td>Delhi</td>\n",
       "      <td>Greater Kailash Part 1,</td>\n",
       "      <td>FeHealth Clinic</td>\n",
       "      <td>1200</td>\n",
       "      <td>99%</td>\n",
       "    </tr>\n",
       "    <tr>\n",
       "      <th>3</th>\n",
       "      <td>Dr. Shikha Gurnani</td>\n",
       "      <td>Gynecologist/Obstetrician</td>\n",
       "      <td>19</td>\n",
       "      <td>Delhi</td>\n",
       "      <td>Dwarka,</td>\n",
       "      <td>Bloom Vision Clinic</td>\n",
       "      <td>800</td>\n",
       "      <td>98%</td>\n",
       "    </tr>\n",
       "    <tr>\n",
       "      <th>4</th>\n",
       "      <td>Dr. Bandana Sodhi</td>\n",
       "      <td>Gynecologist/Obstetrician</td>\n",
       "      <td>31</td>\n",
       "      <td>Delhi</td>\n",
       "      <td>Lajpat Nagar,</td>\n",
       "      <td>Women's Clinic</td>\n",
       "      <td>800</td>\n",
       "      <td>99%</td>\n",
       "    </tr>\n",
       "    <tr>\n",
       "      <th>...</th>\n",
       "      <td>...</td>\n",
       "      <td>...</td>\n",
       "      <td>...</td>\n",
       "      <td>...</td>\n",
       "      <td>...</td>\n",
       "      <td>...</td>\n",
       "      <td>...</td>\n",
       "      <td>...</td>\n",
       "    </tr>\n",
       "    <tr>\n",
       "      <th>5</th>\n",
       "      <td>Dr. Vijay Abbot</td>\n",
       "      <td>Ayurveda</td>\n",
       "      <td>48</td>\n",
       "      <td>Delhi</td>\n",
       "      <td>Patel Nagar East,</td>\n",
       "      <td>Hakim Hari Kishan Lal Dawakhana</td>\n",
       "      <td>50</td>\n",
       "      <td>82%</td>\n",
       "    </tr>\n",
       "    <tr>\n",
       "      <th>6</th>\n",
       "      <td>Dr. Anjana Kalia</td>\n",
       "      <td>Ayurveda</td>\n",
       "      <td>21</td>\n",
       "      <td>Delhi</td>\n",
       "      <td>Dwarka,</td>\n",
       "      <td>Dr Anjana Kalia's Diet clinic</td>\n",
       "      <td>1000</td>\n",
       "      <td>99%</td>\n",
       "    </tr>\n",
       "    <tr>\n",
       "      <th>7</th>\n",
       "      <td>Dr. S K Singh</td>\n",
       "      <td>Ayurveda</td>\n",
       "      <td>36</td>\n",
       "      <td>Delhi</td>\n",
       "      <td>Rohini,</td>\n",
       "      <td>Sushruta Anorectal Institute</td>\n",
       "      <td>1500</td>\n",
       "      <td>89%</td>\n",
       "    </tr>\n",
       "    <tr>\n",
       "      <th>8</th>\n",
       "      <td>Dr. Shabnam Chauhan</td>\n",
       "      <td>Ayurveda</td>\n",
       "      <td>13</td>\n",
       "      <td>Delhi</td>\n",
       "      <td>Chattarpur,</td>\n",
       "      <td>Ayubless Ayurveda Clinic And Panchakarma</td>\n",
       "      <td>250</td>\n",
       "      <td>100%</td>\n",
       "    </tr>\n",
       "    <tr>\n",
       "      <th>9</th>\n",
       "      <td>Dr. Preeti Jiyal</td>\n",
       "      <td>Ayurveda</td>\n",
       "      <td>7</td>\n",
       "      <td>Delhi</td>\n",
       "      <td>Sarita Vihar,</td>\n",
       "      <td>Maharishi Ayurveda Wellness Clinic</td>\n",
       "      <td>300</td>\n",
       "      <td>93%</td>\n",
       "    </tr>\n",
       "  </tbody>\n",
       "</table>\n",
       "<p>70 rows × 8 columns</p>\n",
       "</div>"
      ],
      "text/plain": [
       "            Doctor_name                 Specialist Experience City_name  \\\n",
       "0       Dr. Madhu Ahuja  Gynecologist/Obstetrician         38     Delhi   \n",
       "1     Dr. Keerti Khetan  Gynecologist/Obstetrician         29     Delhi   \n",
       "2   Dr. Neha Khandelwal  Gynecologist/Obstetrician         17     Delhi   \n",
       "3    Dr. Shikha Gurnani  Gynecologist/Obstetrician         19     Delhi   \n",
       "4     Dr. Bandana Sodhi  Gynecologist/Obstetrician         31     Delhi   \n",
       "..                  ...                        ...        ...       ...   \n",
       "5       Dr. Vijay Abbot                   Ayurveda         48     Delhi   \n",
       "6      Dr. Anjana Kalia                   Ayurveda         21     Delhi   \n",
       "7         Dr. S K Singh                   Ayurveda         36     Delhi   \n",
       "8   Dr. Shabnam Chauhan                   Ayurveda         13     Delhi   \n",
       "9      Dr. Preeti Jiyal                   Ayurveda          7     Delhi   \n",
       "\n",
       "                       Area                             Hospital_name  \\\n",
       "0               Patparganj,                       Cloudnine Hospitals   \n",
       "1                Pusa Road,         BLK-Max Super Speciality Hospital   \n",
       "2   Greater Kailash Part 1,                           FeHealth Clinic   \n",
       "3                   Dwarka,                       Bloom Vision Clinic   \n",
       "4             Lajpat Nagar,                            Women's Clinic   \n",
       "..                      ...                                       ...   \n",
       "5         Patel Nagar East,           Hakim Hari Kishan Lal Dawakhana   \n",
       "6                   Dwarka,             Dr Anjana Kalia's Diet clinic   \n",
       "7                   Rohini,              Sushruta Anorectal Institute   \n",
       "8               Chattarpur,  Ayubless Ayurveda Clinic And Panchakarma   \n",
       "9             Sarita Vihar,        Maharishi Ayurveda Wellness Clinic   \n",
       "\n",
       "   Consultation_fee Recommendation  \n",
       "0              1100           93%   \n",
       "1              1500           92%   \n",
       "2              1200           99%   \n",
       "3               800           98%   \n",
       "4               800           99%   \n",
       "..              ...            ...  \n",
       "5                50           82%   \n",
       "6              1000           99%   \n",
       "7              1500           89%   \n",
       "8               250          100%   \n",
       "9               300           93%   \n",
       "\n",
       "[70 rows x 8 columns]"
      ]
     },
     "execution_count": 81,
     "metadata": {},
     "output_type": "execute_result"
    }
   ],
   "source": [
    "Delhi_df = pd.concat([Gynecologist_df1,Dentist_df1,General_Physician_df1,Dermatologist_df1,ENT_df1,Homoeopath_df1,Ayurveda_df1],axis=0)\n",
    "Delhi_df"
   ]
  },
  {
   "cell_type": "code",
   "execution_count": 83,
   "id": "a12edf8c",
   "metadata": {
    "ExecuteTime": {
     "end_time": "2022-12-02T12:30:03.178327Z",
     "start_time": "2022-12-02T12:30:03.162330Z"
    }
   },
   "outputs": [],
   "source": [
    "Delhi_df.reset_index(inplace=True)\n",
    "Delhi_df.drop('index',axis=1,inplace=True)"
   ]
  },
  {
   "cell_type": "code",
   "execution_count": 84,
   "id": "bb26c5bf",
   "metadata": {
    "ExecuteTime": {
     "end_time": "2022-12-02T12:30:11.519864Z",
     "start_time": "2022-12-02T12:30:11.479191Z"
    }
   },
   "outputs": [
    {
     "data": {
      "text/html": [
       "<div>\n",
       "<style scoped>\n",
       "    .dataframe tbody tr th:only-of-type {\n",
       "        vertical-align: middle;\n",
       "    }\n",
       "\n",
       "    .dataframe tbody tr th {\n",
       "        vertical-align: top;\n",
       "    }\n",
       "\n",
       "    .dataframe thead th {\n",
       "        text-align: right;\n",
       "    }\n",
       "</style>\n",
       "<table border=\"1\" class=\"dataframe\">\n",
       "  <thead>\n",
       "    <tr style=\"text-align: right;\">\n",
       "      <th></th>\n",
       "      <th>Doctor_name</th>\n",
       "      <th>Specialist</th>\n",
       "      <th>Experience</th>\n",
       "      <th>City_name</th>\n",
       "      <th>Area</th>\n",
       "      <th>Hospital_name</th>\n",
       "      <th>Consultation_fee</th>\n",
       "      <th>Recommendation</th>\n",
       "    </tr>\n",
       "  </thead>\n",
       "  <tbody>\n",
       "    <tr>\n",
       "      <th>0</th>\n",
       "      <td>Dr. Madhu Ahuja</td>\n",
       "      <td>Gynecologist/Obstetrician</td>\n",
       "      <td>38</td>\n",
       "      <td>Delhi</td>\n",
       "      <td>Patparganj,</td>\n",
       "      <td>Cloudnine Hospitals</td>\n",
       "      <td>1100</td>\n",
       "      <td>93%</td>\n",
       "    </tr>\n",
       "    <tr>\n",
       "      <th>1</th>\n",
       "      <td>Dr. Keerti Khetan</td>\n",
       "      <td>Gynecologist/Obstetrician</td>\n",
       "      <td>29</td>\n",
       "      <td>Delhi</td>\n",
       "      <td>Pusa Road,</td>\n",
       "      <td>BLK-Max Super Speciality Hospital</td>\n",
       "      <td>1500</td>\n",
       "      <td>92%</td>\n",
       "    </tr>\n",
       "    <tr>\n",
       "      <th>2</th>\n",
       "      <td>Dr. Neha Khandelwal</td>\n",
       "      <td>Gynecologist/Obstetrician</td>\n",
       "      <td>17</td>\n",
       "      <td>Delhi</td>\n",
       "      <td>Greater Kailash Part 1,</td>\n",
       "      <td>FeHealth Clinic</td>\n",
       "      <td>1200</td>\n",
       "      <td>99%</td>\n",
       "    </tr>\n",
       "    <tr>\n",
       "      <th>3</th>\n",
       "      <td>Dr. Shikha Gurnani</td>\n",
       "      <td>Gynecologist/Obstetrician</td>\n",
       "      <td>19</td>\n",
       "      <td>Delhi</td>\n",
       "      <td>Dwarka,</td>\n",
       "      <td>Bloom Vision Clinic</td>\n",
       "      <td>800</td>\n",
       "      <td>98%</td>\n",
       "    </tr>\n",
       "    <tr>\n",
       "      <th>4</th>\n",
       "      <td>Dr. Bandana Sodhi</td>\n",
       "      <td>Gynecologist/Obstetrician</td>\n",
       "      <td>31</td>\n",
       "      <td>Delhi</td>\n",
       "      <td>Lajpat Nagar,</td>\n",
       "      <td>Women's Clinic</td>\n",
       "      <td>800</td>\n",
       "      <td>99%</td>\n",
       "    </tr>\n",
       "    <tr>\n",
       "      <th>...</th>\n",
       "      <td>...</td>\n",
       "      <td>...</td>\n",
       "      <td>...</td>\n",
       "      <td>...</td>\n",
       "      <td>...</td>\n",
       "      <td>...</td>\n",
       "      <td>...</td>\n",
       "      <td>...</td>\n",
       "    </tr>\n",
       "    <tr>\n",
       "      <th>65</th>\n",
       "      <td>Dr. Vijay Abbot</td>\n",
       "      <td>Ayurveda</td>\n",
       "      <td>48</td>\n",
       "      <td>Delhi</td>\n",
       "      <td>Patel Nagar East,</td>\n",
       "      <td>Hakim Hari Kishan Lal Dawakhana</td>\n",
       "      <td>50</td>\n",
       "      <td>82%</td>\n",
       "    </tr>\n",
       "    <tr>\n",
       "      <th>66</th>\n",
       "      <td>Dr. Anjana Kalia</td>\n",
       "      <td>Ayurveda</td>\n",
       "      <td>21</td>\n",
       "      <td>Delhi</td>\n",
       "      <td>Dwarka,</td>\n",
       "      <td>Dr Anjana Kalia's Diet clinic</td>\n",
       "      <td>1000</td>\n",
       "      <td>99%</td>\n",
       "    </tr>\n",
       "    <tr>\n",
       "      <th>67</th>\n",
       "      <td>Dr. S K Singh</td>\n",
       "      <td>Ayurveda</td>\n",
       "      <td>36</td>\n",
       "      <td>Delhi</td>\n",
       "      <td>Rohini,</td>\n",
       "      <td>Sushruta Anorectal Institute</td>\n",
       "      <td>1500</td>\n",
       "      <td>89%</td>\n",
       "    </tr>\n",
       "    <tr>\n",
       "      <th>68</th>\n",
       "      <td>Dr. Shabnam Chauhan</td>\n",
       "      <td>Ayurveda</td>\n",
       "      <td>13</td>\n",
       "      <td>Delhi</td>\n",
       "      <td>Chattarpur,</td>\n",
       "      <td>Ayubless Ayurveda Clinic And Panchakarma</td>\n",
       "      <td>250</td>\n",
       "      <td>100%</td>\n",
       "    </tr>\n",
       "    <tr>\n",
       "      <th>69</th>\n",
       "      <td>Dr. Preeti Jiyal</td>\n",
       "      <td>Ayurveda</td>\n",
       "      <td>7</td>\n",
       "      <td>Delhi</td>\n",
       "      <td>Sarita Vihar,</td>\n",
       "      <td>Maharishi Ayurveda Wellness Clinic</td>\n",
       "      <td>300</td>\n",
       "      <td>93%</td>\n",
       "    </tr>\n",
       "  </tbody>\n",
       "</table>\n",
       "<p>70 rows × 8 columns</p>\n",
       "</div>"
      ],
      "text/plain": [
       "            Doctor_name                 Specialist Experience City_name  \\\n",
       "0       Dr. Madhu Ahuja  Gynecologist/Obstetrician         38     Delhi   \n",
       "1     Dr. Keerti Khetan  Gynecologist/Obstetrician         29     Delhi   \n",
       "2   Dr. Neha Khandelwal  Gynecologist/Obstetrician         17     Delhi   \n",
       "3    Dr. Shikha Gurnani  Gynecologist/Obstetrician         19     Delhi   \n",
       "4     Dr. Bandana Sodhi  Gynecologist/Obstetrician         31     Delhi   \n",
       "..                  ...                        ...        ...       ...   \n",
       "65      Dr. Vijay Abbot                   Ayurveda         48     Delhi   \n",
       "66     Dr. Anjana Kalia                   Ayurveda         21     Delhi   \n",
       "67        Dr. S K Singh                   Ayurveda         36     Delhi   \n",
       "68  Dr. Shabnam Chauhan                   Ayurveda         13     Delhi   \n",
       "69     Dr. Preeti Jiyal                   Ayurveda          7     Delhi   \n",
       "\n",
       "                       Area                             Hospital_name  \\\n",
       "0               Patparganj,                       Cloudnine Hospitals   \n",
       "1                Pusa Road,         BLK-Max Super Speciality Hospital   \n",
       "2   Greater Kailash Part 1,                           FeHealth Clinic   \n",
       "3                   Dwarka,                       Bloom Vision Clinic   \n",
       "4             Lajpat Nagar,                            Women's Clinic   \n",
       "..                      ...                                       ...   \n",
       "65        Patel Nagar East,           Hakim Hari Kishan Lal Dawakhana   \n",
       "66                  Dwarka,             Dr Anjana Kalia's Diet clinic   \n",
       "67                  Rohini,              Sushruta Anorectal Institute   \n",
       "68              Chattarpur,  Ayubless Ayurveda Clinic And Panchakarma   \n",
       "69            Sarita Vihar,        Maharishi Ayurveda Wellness Clinic   \n",
       "\n",
       "   Consultation_fee Recommendation  \n",
       "0              1100           93%   \n",
       "1              1500           92%   \n",
       "2              1200           99%   \n",
       "3               800           98%   \n",
       "4               800           99%   \n",
       "..              ...            ...  \n",
       "65               50           82%   \n",
       "66             1000           99%   \n",
       "67             1500           89%   \n",
       "68              250          100%   \n",
       "69              300           93%   \n",
       "\n",
       "[70 rows x 8 columns]"
      ]
     },
     "execution_count": 84,
     "metadata": {},
     "output_type": "execute_result"
    }
   ],
   "source": [
    "Delhi_df"
   ]
  },
  {
   "cell_type": "code",
   "execution_count": 86,
   "id": "28fa5180",
   "metadata": {
    "ExecuteTime": {
     "end_time": "2022-12-02T12:30:57.209385Z",
     "start_time": "2022-12-02T12:30:57.177385Z"
    }
   },
   "outputs": [
    {
     "name": "stdout",
     "output_type": "stream",
     "text": [
      "<class 'pandas.core.frame.DataFrame'>\n",
      "RangeIndex: 70 entries, 0 to 69\n",
      "Data columns (total 8 columns):\n",
      " #   Column            Non-Null Count  Dtype \n",
      "---  ------            --------------  ----- \n",
      " 0   Doctor_name       70 non-null     object\n",
      " 1   Specialist        70 non-null     object\n",
      " 2   Experience        70 non-null     object\n",
      " 3   City_name         70 non-null     object\n",
      " 4   Area              70 non-null     object\n",
      " 5   Hospital_name     70 non-null     object\n",
      " 6   Consultation_fee  70 non-null     object\n",
      " 7   Recommendation    70 non-null     object\n",
      "dtypes: object(8)\n",
      "memory usage: 4.5+ KB\n"
     ]
    }
   ],
   "source": [
    "Delhi_df.info()"
   ]
  },
  {
   "cell_type": "code",
   "execution_count": 87,
   "id": "b88363cf",
   "metadata": {
    "ExecuteTime": {
     "end_time": "2022-12-02T12:31:34.111394Z",
     "start_time": "2022-12-02T12:31:34.092481Z"
    }
   },
   "outputs": [],
   "source": [
    "Delhi_df.to_csv(\"Practo_Delhi.csv\")"
   ]
  },
  {
   "cell_type": "code",
   "execution_count": 88,
   "id": "bca59ab1",
   "metadata": {
    "ExecuteTime": {
     "end_time": "2022-12-02T12:31:50.702446Z",
     "start_time": "2022-12-02T12:31:50.681969Z"
    }
   },
   "outputs": [
    {
     "data": {
      "text/plain": [
       "'C:\\\\Users\\\\pc\\\\Data Science Course\\\\Practo Project'"
      ]
     },
     "execution_count": 88,
     "metadata": {},
     "output_type": "execute_result"
    }
   ],
   "source": [
    "import os\n",
    "os.getcwd()"
   ]
  },
  {
   "cell_type": "code",
   "execution_count": 89,
   "id": "19c39b95",
   "metadata": {
    "ExecuteTime": {
     "end_time": "2022-12-02T12:32:00.572682Z",
     "start_time": "2022-12-02T12:32:00.555499Z"
    }
   },
   "outputs": [
    {
     "data": {
      "text/plain": [
       "'C:\\\\Users\\\\pc\\\\Data Science Course\\\\Practo Project'"
      ]
     },
     "execution_count": 89,
     "metadata": {},
     "output_type": "execute_result"
    }
   ],
   "source": [
    "pwd"
   ]
  },
  {
   "cell_type": "code",
   "execution_count": null,
   "id": "0bdacd4a",
   "metadata": {},
   "outputs": [],
   "source": []
  },
  {
   "cell_type": "code",
   "execution_count": null,
   "id": "ea3c808f",
   "metadata": {},
   "outputs": [],
   "source": []
  },
  {
   "cell_type": "code",
   "execution_count": null,
   "id": "08fad07d",
   "metadata": {},
   "outputs": [],
   "source": []
  },
  {
   "cell_type": "code",
   "execution_count": null,
   "id": "70fd6c98",
   "metadata": {},
   "outputs": [],
   "source": []
  },
  {
   "cell_type": "code",
   "execution_count": null,
   "id": "4faa0884",
   "metadata": {},
   "outputs": [],
   "source": []
  },
  {
   "cell_type": "code",
   "execution_count": null,
   "id": "36e9b8a1",
   "metadata": {},
   "outputs": [],
   "source": []
  },
  {
   "cell_type": "code",
   "execution_count": null,
   "id": "344dd85b",
   "metadata": {},
   "outputs": [],
   "source": []
  },
  {
   "cell_type": "code",
   "execution_count": null,
   "id": "63444599",
   "metadata": {},
   "outputs": [],
   "source": []
  },
  {
   "cell_type": "code",
   "execution_count": null,
   "id": "7fd39065",
   "metadata": {},
   "outputs": [],
   "source": []
  },
  {
   "cell_type": "code",
   "execution_count": null,
   "id": "e27f824a",
   "metadata": {},
   "outputs": [],
   "source": []
  },
  {
   "cell_type": "code",
   "execution_count": null,
   "id": "0061550b",
   "metadata": {},
   "outputs": [],
   "source": []
  },
  {
   "cell_type": "code",
   "execution_count": null,
   "id": "a23f82bf",
   "metadata": {},
   "outputs": [],
   "source": []
  },
  {
   "cell_type": "code",
   "execution_count": null,
   "id": "a8881467",
   "metadata": {},
   "outputs": [],
   "source": []
  },
  {
   "cell_type": "code",
   "execution_count": null,
   "id": "a7cbd93c",
   "metadata": {},
   "outputs": [],
   "source": []
  },
  {
   "cell_type": "code",
   "execution_count": null,
   "id": "5d3e170f",
   "metadata": {},
   "outputs": [],
   "source": []
  },
  {
   "cell_type": "code",
   "execution_count": null,
   "id": "626e7dde",
   "metadata": {},
   "outputs": [],
   "source": []
  },
  {
   "cell_type": "code",
   "execution_count": null,
   "id": "6f085d32",
   "metadata": {},
   "outputs": [],
   "source": []
  },
  {
   "cell_type": "code",
   "execution_count": null,
   "id": "5e1715bd",
   "metadata": {},
   "outputs": [],
   "source": []
  },
  {
   "cell_type": "code",
   "execution_count": null,
   "id": "4fcfbf44",
   "metadata": {},
   "outputs": [],
   "source": []
  },
  {
   "cell_type": "code",
   "execution_count": null,
   "id": "c3b8fdf2",
   "metadata": {},
   "outputs": [],
   "source": []
  },
  {
   "cell_type": "code",
   "execution_count": null,
   "id": "5bffe0ca",
   "metadata": {},
   "outputs": [],
   "source": []
  },
  {
   "cell_type": "code",
   "execution_count": null,
   "id": "b0f24b56",
   "metadata": {},
   "outputs": [],
   "source": []
  },
  {
   "cell_type": "code",
   "execution_count": null,
   "id": "b46b2264",
   "metadata": {},
   "outputs": [],
   "source": []
  },
  {
   "cell_type": "code",
   "execution_count": null,
   "id": "b94d0c91",
   "metadata": {},
   "outputs": [],
   "source": []
  },
  {
   "cell_type": "code",
   "execution_count": null,
   "id": "afbb8b3a",
   "metadata": {},
   "outputs": [],
   "source": []
  },
  {
   "cell_type": "code",
   "execution_count": null,
   "id": "d77e96c9",
   "metadata": {},
   "outputs": [],
   "source": []
  },
  {
   "cell_type": "code",
   "execution_count": null,
   "id": "19711078",
   "metadata": {},
   "outputs": [],
   "source": []
  },
  {
   "cell_type": "code",
   "execution_count": null,
   "id": "14b6de82",
   "metadata": {},
   "outputs": [],
   "source": []
  },
  {
   "cell_type": "code",
   "execution_count": null,
   "id": "d77c6846",
   "metadata": {},
   "outputs": [],
   "source": []
  },
  {
   "cell_type": "code",
   "execution_count": null,
   "id": "a170d176",
   "metadata": {},
   "outputs": [],
   "source": []
  },
  {
   "cell_type": "code",
   "execution_count": null,
   "id": "c5efcb40",
   "metadata": {},
   "outputs": [],
   "source": []
  },
  {
   "cell_type": "code",
   "execution_count": null,
   "id": "5437ef48",
   "metadata": {},
   "outputs": [],
   "source": []
  },
  {
   "cell_type": "code",
   "execution_count": null,
   "id": "d908b951",
   "metadata": {},
   "outputs": [],
   "source": []
  },
  {
   "cell_type": "code",
   "execution_count": null,
   "id": "66b962d5",
   "metadata": {},
   "outputs": [],
   "source": []
  },
  {
   "cell_type": "code",
   "execution_count": null,
   "id": "f236eab5",
   "metadata": {},
   "outputs": [],
   "source": []
  },
  {
   "cell_type": "code",
   "execution_count": null,
   "id": "b3a42dd3",
   "metadata": {},
   "outputs": [],
   "source": []
  },
  {
   "cell_type": "code",
   "execution_count": null,
   "id": "a266d786",
   "metadata": {},
   "outputs": [],
   "source": []
  },
  {
   "cell_type": "code",
   "execution_count": null,
   "id": "670b5f9b",
   "metadata": {},
   "outputs": [],
   "source": []
  },
  {
   "cell_type": "code",
   "execution_count": null,
   "id": "121e4e6b",
   "metadata": {},
   "outputs": [],
   "source": []
  },
  {
   "cell_type": "code",
   "execution_count": null,
   "id": "151e8d18",
   "metadata": {},
   "outputs": [],
   "source": []
  },
  {
   "cell_type": "code",
   "execution_count": null,
   "id": "f2c0428c",
   "metadata": {},
   "outputs": [],
   "source": []
  },
  {
   "cell_type": "code",
   "execution_count": null,
   "id": "22958865",
   "metadata": {},
   "outputs": [],
   "source": []
  },
  {
   "cell_type": "code",
   "execution_count": null,
   "id": "de82661a",
   "metadata": {},
   "outputs": [],
   "source": []
  },
  {
   "cell_type": "code",
   "execution_count": null,
   "id": "cde72bcf",
   "metadata": {},
   "outputs": [],
   "source": []
  },
  {
   "cell_type": "code",
   "execution_count": null,
   "id": "1695c401",
   "metadata": {},
   "outputs": [],
   "source": []
  },
  {
   "cell_type": "code",
   "execution_count": null,
   "id": "f4bdfbdd",
   "metadata": {},
   "outputs": [],
   "source": []
  },
  {
   "cell_type": "code",
   "execution_count": null,
   "id": "290c548f",
   "metadata": {},
   "outputs": [],
   "source": []
  },
  {
   "cell_type": "code",
   "execution_count": null,
   "id": "9f837128",
   "metadata": {},
   "outputs": [],
   "source": []
  },
  {
   "cell_type": "code",
   "execution_count": null,
   "id": "ad4d4a3a",
   "metadata": {},
   "outputs": [],
   "source": []
  },
  {
   "cell_type": "code",
   "execution_count": null,
   "id": "da6f87a0",
   "metadata": {},
   "outputs": [],
   "source": []
  }
 ],
 "metadata": {
  "kernelspec": {
   "display_name": "Python 3 (ipykernel)",
   "language": "python",
   "name": "python3"
  },
  "language_info": {
   "codemirror_mode": {
    "name": "ipython",
    "version": 3
   },
   "file_extension": ".py",
   "mimetype": "text/x-python",
   "name": "python",
   "nbconvert_exporter": "python",
   "pygments_lexer": "ipython3",
   "version": "3.9.12"
  }
 },
 "nbformat": 4,
 "nbformat_minor": 5
}
